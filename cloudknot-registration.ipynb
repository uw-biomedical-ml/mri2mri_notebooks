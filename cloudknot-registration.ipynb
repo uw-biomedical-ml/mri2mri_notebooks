{
 "cells": [
  {
   "cell_type": "code",
   "execution_count": 1,
   "metadata": {},
   "outputs": [],
   "source": [
    "import numpy as np"
   ]
  },
  {
   "cell_type": "code",
   "execution_count": 2,
   "metadata": {},
   "outputs": [],
   "source": [
    "import cloudknot as ck"
   ]
  },
  {
   "cell_type": "code",
   "execution_count": 3,
   "metadata": {},
   "outputs": [],
   "source": [
    "ck.set_region('us-west-2')"
   ]
  },
  {
   "cell_type": "code",
   "execution_count": 4,
   "metadata": {},
   "outputs": [],
   "source": [
    "s3_access_pars = ck.Pars(name='s3_access',\n",
    "                         policies=('AmazonS3FullAccess',),\n",
    "                         use_default_vpc=False)"
   ]
  },
  {
   "cell_type": "code",
   "execution_count": 5,
   "metadata": {},
   "outputs": [],
   "source": [
    "import boto3"
   ]
  },
  {
   "cell_type": "code",
   "execution_count": 6,
   "metadata": {},
   "outputs": [],
   "source": [
    "\n",
    "client = boto3.resource('s3')\n",
    "bucket_name = 'arokem.mri2mri'\n",
    "b = client.Bucket(bucket_name)\n"
   ]
  },
  {
   "cell_type": "code",
   "execution_count": 7,
   "metadata": {},
   "outputs": [],
   "source": [
    "T1_list = [ll.key for ll in list(b.objects.all())[1:] if (ll.key.startswith(\"IXI-data/multimodal_registration/\") and ll.key.endswith('T1.nii.gz'))]"
   ]
  },
  {
   "cell_type": "code",
   "execution_count": 8,
   "metadata": {},
   "outputs": [
    {
     "data": {
      "text/plain": [
       "'IXI-data/multimodal_registration/dti00_t1_L1Only/IXI012-HH-1211-T1.nii.gz'"
      ]
     },
     "execution_count": 8,
     "metadata": {},
     "output_type": "execute_result"
    }
   ],
   "source": [
    "T1_list[0]"
   ]
  },
  {
   "cell_type": "code",
   "execution_count": 9,
   "metadata": {},
   "outputs": [],
   "source": [
    "def compare_registrations(t1_path):\n",
    "    import os.path as op\n",
    "\n",
    "    import boto3\n",
    "    import numpy as np\n",
    "    from AFQ import registration as reg\n",
    "    import nibabel as nib\n",
    "    from dipy.core.geometry import decompose_matrix\n",
    "    \n",
    "    client = boto3.resource('s3')\n",
    "    bucket_name = 'arokem.mri2mri'\n",
    "    b = client.Bucket(bucket_name)\n",
    "\n",
    "    data_path = op.split(t1_path)[0]\n",
    "#     if data_path.find(\"DTI-00\") >= 0:\n",
    "#         source_string = 'DTI-00_transformed.nii.gz'\n",
    "#     if data_path.find(\"DTI-08\") >= 0:\n",
    "#         source_string = 'DTI-08_transformed.nii.gz'\n",
    "#     elif data_path.find(\"T2\") >= 0:\n",
    "#         source_string = 'T2_transformed.nii.gz'\n",
    "    \n",
    "    source_string = 'DTI-00_transformed.nii.gz'\n",
    "    \n",
    "    print(\"Downloading %s as target\"%t1_path)\n",
    "    b.download_file(t1_path, 'target.nii.gz')\n",
    "    img_target = nib.load('target.nii.gz')\n",
    "    source_path = op.join(data_path, op.split(t1_path)[1].split('T1')[0] + source_string)\n",
    "    print(\"Downloading %s as source\"%source_path)\n",
    "    b.download_file(source_path, 'source.nii.gz')\n",
    "    img_source = nib.load('source.nii.gz')\n",
    "    pred_path = op.join(data_path,  op.split(t1_path)[1].split('T1')[0]+ 'T1_transformed_predict.nii.gz')\n",
    "    print(\"Downloading %s as prediction\"%pred_path)\n",
    "    b.download_file(pred_path, 'pred.nii.gz')\n",
    "    img_pred = nib.load('pred.nii.gz')\n",
    "\n",
    "    data_source = img_source.get_data()\n",
    "    data_target = img_target.get_data()\n",
    "    data_pred = img_pred.get_data()\n",
    "    print(\"Registering source to target\")\n",
    "    transformed_source, reg_affine_source = reg.affine_registration(moving=data_target, \n",
    "                                                                    static=data_source, \n",
    "                                                                    moving_affine=img_target.affine,\n",
    "                                                                    static_affine=img_source.affine,\n",
    "                                                                    level_iters=[10000, 10000, 10000])\n",
    "    print(\"Registering prediction to target\")\n",
    "    transformed_pred, reg_affine_pred = reg.affine_registration(moving=data_target, \n",
    "                                                                static=data_pred, \n",
    "                                                                moving_affine=img_target.affine,\n",
    "                                                                static_affine=img_pred.affine,\n",
    "                                                                level_iters=[10000, 10000, 10000])\n",
    "    \n",
    "    print(\"Calculating registration errors\")\n",
    "    scale_source, shear_source, angles_source, translate_source, perspective_source = decompose_matrix(reg_affine_source)\n",
    "    scale_pred, shear_pred, angles_pred, translate_pred, perspective_pred = decompose_matrix(reg_affine_pred)\n",
    "\n",
    "    this_RMS_trans_source = np.mean(np.abs(translate_source))\n",
    "    this_RMS_trans_pred = np.mean(np.abs(translate_pred))\n",
    "    this_RMS_rot_source = np.mean(np.abs(angles_source))\n",
    "    this_RMS_rot_pred = np.mean(np.abs(angles_pred))\n",
    "\n",
    "    \n",
    "    results_file = open('results_%s.txt'%op.split(t1_path)[-1], 'w')\n",
    "    print(\"Writing results to %s\"%results_file)\n",
    "    results_file.write('%2.8f\\t %2.8f\\t %2.8f\\t %2.8f\\t' % (this_RMS_trans_pred, \n",
    "                                                            this_RMS_rot_pred,\n",
    "                                                            this_RMS_trans_source,\n",
    "                                                            this_RMS_rot_source))\n",
    "    results_file.close()\n",
    "    upload_file = op.join(data_path, results_file.name)\n",
    "    print(\"Uploading results to %s\" % upload_file)\n",
    "    b.upload_file(results_file.name, upload_file)"
   ]
  },
  {
   "cell_type": "code",
   "execution_count": 10,
   "metadata": {},
   "outputs": [],
   "source": [
    "#compare_registrations(T1_list[0])"
   ]
  },
  {
   "cell_type": "code",
   "execution_count": 11,
   "metadata": {},
   "outputs": [],
   "source": [
    "image = ck.DockerImage(func=compare_registrations, github_installs=\"https://github.com/yeatmanlab/pyAFQ.git\")"
   ]
  },
  {
   "cell_type": "code",
   "execution_count": 12,
   "metadata": {},
   "outputs": [
    {
     "data": {
      "text/plain": [
       "'/Users/arokem/projects/mri2mri/cloudknot_docker_compare_registrations_05rjdagn/Dockerfile'"
      ]
     },
     "execution_count": 12,
     "metadata": {},
     "output_type": "execute_result"
    }
   ],
   "source": [
    "image.docker_path"
   ]
  },
  {
   "cell_type": "code",
   "execution_count": 14,
   "metadata": {},
   "outputs": [],
   "source": [
    "image.build(tags='0.3')"
   ]
  },
  {
   "cell_type": "code",
   "execution_count": 15,
   "metadata": {},
   "outputs": [
    {
     "data": {
      "text/plain": [
       "[{'name': 'cloudknot/compare_registrations', 'tag': '0.3'}]"
      ]
     },
     "execution_count": 15,
     "metadata": {},
     "output_type": "execute_result"
    }
   ],
   "source": [
    "image.images"
   ]
  },
  {
   "cell_type": "code",
   "execution_count": 16,
   "metadata": {},
   "outputs": [],
   "source": [
    "reg_knot = ck.Knot(name='compare_registrations4',\n",
    "                   docker_image=image,\n",
    "                   pars=s3_access_pars, \n",
    "                   resource_type=\"SPOT\", \n",
    "                   bid_percentage=100)"
   ]
  },
  {
   "cell_type": "code",
   "execution_count": 15,
   "metadata": {},
   "outputs": [],
   "source": [
    "#reg_knot.clobber()"
   ]
  },
  {
   "cell_type": "code",
   "execution_count": 17,
   "metadata": {},
   "outputs": [],
   "source": [
    "result = reg_knot.map(T1_list)"
   ]
  },
  {
   "cell_type": "code",
   "execution_count": 18,
   "metadata": {
    "scrolled": false
   },
   "outputs": [],
   "source": [
    "j0 = reg_knot.jobs[0]"
   ]
  },
  {
   "cell_type": "code",
   "execution_count": 23,
   "metadata": {},
   "outputs": [
    {
     "data": {
      "text/plain": [
       "{'status': 'SUCCEEDED',\n",
       " 'statusReason': None,\n",
       " 'attempts': [],\n",
       " 'arrayProperties': {'statusSummary': {'STARTING': 0,\n",
       "   'FAILED': 0,\n",
       "   'RUNNING': 0,\n",
       "   'SUCCEEDED': 395,\n",
       "   'RUNNABLE': 0,\n",
       "   'SUBMITTED': 0,\n",
       "   'PENDING': 0},\n",
       "  'size': 395}}"
      ]
     },
     "execution_count": 23,
     "metadata": {},
     "output_type": "execute_result"
    }
   ],
   "source": [
    "j0.status"
   ]
  },
  {
   "cell_type": "code",
   "execution_count": 53,
   "metadata": {},
   "outputs": [],
   "source": [
    "foo = ['IXI-data/multimodal_registration/dti00_t1_L1Only/IXI012-HH-1211-T1.nii.gz',\n",
    " 'IXI-data/multimodal_registration/dti00_t1_L1Only/IXI013-HH-1212-T1.nii.gz',\n",
    " 'IXI-data/multimodal_registration/dti00_t1_L1Only/IXI025-Guys-0852-T1.nii.gz',\n",
    " 'IXI-data/multimodal_registration/dti00_t1_L1Only/IXI034-HH-1260-T1.nii.gz',\n",
    " 'IXI-data/multimodal_registration/dti00_t1_L1Only/IXI046-Guys-0824-T1.nii.gz',\n",
    " 'IXI-data/multimodal_registration/dti00_t1_L1Only/IXI048-HH-1326-T1.nii.gz',\n",
    " 'IXI-data/multimodal_registration/dti00_t1_L1Only/IXI049-HH-1358-T1.nii.gz',\n",
    " 'IXI-data/multimodal_registration/dti00_t1_L1Only/IXI051-HH-1328-T1.nii.gz',\n",
    " 'IXI-data/multimodal_registration/dti00_t1_L1Only/IXI057-HH-1342-T1.nii.gz',\n",
    " 'IXI-data/multimodal_registration/dti00_t1_L1Only/IXI059-HH-1284-T1.nii.gz',\n",
    " 'IXI-data/multimodal_registration/dti00_t1_L1Only/IXI079-HH-1388-T1.nii.gz',\n",
    " 'IXI-data/multimodal_registration/dti00_t1_L1Only/IXI097-HH-1619-T1.nii.gz',\n",
    " 'IXI-data/multimodal_registration/dti00_t1_L1Only/IXI131-HH-1527-T1.nii.gz',\n",
    " 'IXI-data/multimodal_registration/dti00_t1_L1Only/IXI162-HH-1548-T1.nii.gz',\n",
    " 'IXI-data/multimodal_registration/dti00_t1_L1Only/IXI174-HH-1571-T1.nii.gz',\n",
    " 'IXI-data/multimodal_registration/dti00_t1_L1Only/IXI176-HH-1604-T1.nii.gz',\n",
    " 'IXI-data/multimodal_registration/dti00_t1_L1Only/IXI202-HH-1526-T1.nii.gz',\n",
    " 'IXI-data/multimodal_registration/dti00_t1_L1Only/IXI211-HH-1568-T1.nii.gz',\n",
    " 'IXI-data/multimodal_registration/dti00_t1_L1Only/IXI221-HH-1606-T1.nii.gz',\n",
    " 'IXI-data/multimodal_registration/dti00_t1_L1Only/IXI244-Guys-0841-T1.nii.gz',\n",
    " 'IXI-data/multimodal_registration/dti00_t1_L1Only/IXI246-Guys-0840-T1.nii.gz',\n",
    " 'IXI-data/multimodal_registration/dti00_t1_L1Only/IXI250-Guys-0836-T1.nii.gz',\n",
    " 'IXI-data/multimodal_registration/dti00_t1_L1Only/IXI257-HH-1724-T1.nii.gz',\n",
    " 'IXI-data/multimodal_registration/dti00_t1_L1Only/IXI261-HH-1704-T1.nii.gz',\n",
    " 'IXI-data/multimodal_registration/dti00_t1_L1Only/IXI265-Guys-0845-T1.nii.gz',\n",
    " 'IXI-data/multimodal_registration/dti00_t1_L1Only/IXI277-HH-1770-T1.nii.gz',\n",
    " 'IXI-data/multimodal_registration/dti00_t1_L1Only/IXI278-HH-1771-T1.nii.gz',\n",
    " 'IXI-data/multimodal_registration/dti00_t1_L1Only/IXI280-HH-1860-T1.nii.gz',\n",
    " 'IXI-data/multimodal_registration/dti00_t1_L1Only/IXI288-Guys-0879-T1.nii.gz',\n",
    " 'IXI-data/multimodal_registration/dti00_t1_L1Only/IXI308-Guys-0884-T1.nii.gz',\n",
    " 'IXI-data/multimodal_registration/dti00_t1_L1Only/IXI329-HH-1908-T1.nii.gz',\n",
    " 'IXI-data/multimodal_registration/dti00_t1_L1Only/IXI341-Guys-0906-T1.nii.gz',\n",
    " 'IXI-data/multimodal_registration/dti00_t1_L1Only/IXI356-HH-2049-T1.nii.gz',\n",
    " 'IXI-data/multimodal_registration/dti00_t1_L1Only/IXI365-Guys-0923-T1.nii.gz',\n",
    " 'IXI-data/multimodal_registration/dti00_t1_L1Only/IXI369-Guys-0924-T1.nii.gz',\n",
    " 'IXI-data/multimodal_registration/dti00_t1_L1Only/IXI393-Guys-0941-T1.nii.gz',\n",
    " 'IXI-data/multimodal_registration/dti00_t1_L1Only/IXI396-HH-2115-T1.nii.gz',\n",
    " 'IXI-data/multimodal_registration/dti00_t1_L1Only/IXI411-Guys-0959-T1.nii.gz',\n",
    " 'IXI-data/multimodal_registration/dti00_t1_L1Only/IXI416-Guys-1051-T1.nii.gz',\n",
    " 'IXI-data/multimodal_registration/dti00_t1_L1Only/IXI418-Guys-0956-T1.nii.gz',\n",
    " 'IXI-data/multimodal_registration/dti00_t1_L1Only/IXI436-HH-2153-T1.nii.gz',\n",
    " 'IXI-data/multimodal_registration/dti00_t1_L1Only/IXI441-HH-2154-T1.nii.gz',\n",
    " 'IXI-data/multimodal_registration/dti00_t1_L1Only/IXI448-HH-2393-T1.nii.gz',\n",
    " 'IXI-data/multimodal_registration/dti00_t1_L1Only/IXI451-HH-2212-T1.nii.gz',\n",
    " 'IXI-data/multimodal_registration/dti00_t1_L1Only/IXI458-Guys-0993-T1.nii.gz',\n",
    " 'IXI-data/multimodal_registration/dti00_t1_L1Only/IXI460-Guys-0999-T1.nii.gz',\n",
    " 'IXI-data/multimodal_registration/dti00_t1_L1Only/IXI465-HH-2176-T1.nii.gz',\n",
    " 'IXI-data/multimodal_registration/dti00_t1_L1Only/IXI482-HH-2178-T1.nii.gz',\n",
    " 'IXI-data/multimodal_registration/dti00_t1_L1Only/IXI488-Guys-1015-T1.nii.gz',\n",
    " 'IXI-data/multimodal_registration/dti00_t1_L1Only/IXI490-Guys-1018-T1.nii.gz',\n",
    " 'IXI-data/multimodal_registration/dti00_t1_L1Only/IXI492-Guys-1022-T1.nii.gz',\n",
    " 'IXI-data/multimodal_registration/dti00_t1_L1Only/IXI493-Guys-1007-T1.nii.gz',\n",
    " 'IXI-data/multimodal_registration/dti00_t1_L1Only/IXI495-Guys-1009-T1.nii.gz',\n",
    " 'IXI-data/multimodal_registration/dti00_t1_L1Only/IXI502-Guys-1020-T1.nii.gz',\n",
    " 'IXI-data/multimodal_registration/dti00_t1_L1Only/IXI515-HH-2377-T1.nii.gz',\n",
    " 'IXI-data/multimodal_registration/dti00_t1_L1Only/IXI518-HH-2239-T1.nii.gz',\n",
    " 'IXI-data/multimodal_registration/dti00_t1_L1Only/IXI522-HH-2453-T1.nii.gz',\n",
    " 'IXI-data/multimodal_registration/dti00_t1_L1Only/IXI527-HH-2376-T1.nii.gz',\n",
    " 'IXI-data/multimodal_registration/dti00_t1_L1Only/IXI528-Guys-1073-T1.nii.gz',\n",
    " 'IXI-data/multimodal_registration/dti00_t1_L1Only/IXI539-Guys-1067-T1.nii.gz',\n",
    " 'IXI-data/multimodal_registration/dti00_t1_L1Only/IXI546-HH-2450-T1.nii.gz',\n",
    " 'IXI-data/multimodal_registration/dti00_t1_L1Only/IXI551-Guys-1065-T1.nii.gz',\n",
    " 'IXI-data/multimodal_registration/dti00_t1_L1Only/IXI556-HH-2452-T1.nii.gz',\n",
    " 'IXI-data/multimodal_registration/dti00_t1_L1Only/IXI559-HH-2394-T1.nii.gz',\n",
    " 'IXI-data/multimodal_registration/dti00_t1_L1Only/IXI565-HH-2534-T1.nii.gz',\n",
    " 'IXI-data/multimodal_registration/dti00_t1_L1Only/IXI569-Guys-1101-T1.nii.gz',\n",
    " 'IXI-data/multimodal_registration/dti00_t1_L1Only/IXI582-Guys-1127-T1.nii.gz',\n",
    " 'IXI-data/multimodal_registration/dti00_t1_L1Only/IXI592-Guys-1085-T1.nii.gz',\n",
    " 'IXI-data/multimodal_registration/dti00_t1_L1Only/IXI598-HH-2606-T1.nii.gz',\n",
    " 'IXI-data/multimodal_registration/dti00_t1_L1Only/IXI613-HH-2734-T1.nii.gz',\n",
    " 'IXI-data/multimodal_registration/dti00_t1_L1Only/IXI617-Guys-1090-T1.nii.gz',\n",
    " 'IXI-data/multimodal_registration/dti00_t1_L1Only/IXI623-Guys-1076-T1.nii.gz',\n",
    " 'IXI-data/multimodal_registration/dti00_t1_L1Only/IXI632-HH-2652-T1.nii.gz',\n",
    " 'IXI-data/multimodal_registration/dti00_t1_L1Only/IXI633-HH-2689-T1.nii.gz',\n",
    " 'IXI-data/multimodal_registration/dti00_t1_L1Only/IXI634-HH-2690-T1.nii.gz',\n",
    " 'IXI-data/multimodal_registration/dti00_t1_L1Only/IXI636-HH-2733-T1.nii.gz',\n",
    " 'IXI-data/multimodal_registration/dti00_t1_L1Only/IXI642-Guys-1104-T1.nii.gz',\n",
    " 'IXI-data/multimodal_registration/dti00_t1_L1Only/IXI644-Guys-1121-T1.nii.gz',\n",
    " 'IXI-data/multimodal_registration/dti00_t1_L1Only/IXI652-Guys-1116-T1.nii.gz']"
   ]
  },
  {
   "cell_type": "code",
   "execution_count": 57,
   "metadata": {},
   "outputs": [
    {
     "data": {
      "text/plain": [
       "395"
      ]
     },
     "execution_count": 57,
     "metadata": {},
     "output_type": "execute_result"
    }
   ],
   "source": [
    "79 * 5"
   ]
  },
  {
   "cell_type": "code",
   "execution_count": 55,
   "metadata": {},
   "outputs": [
    {
     "data": {
      "text/plain": [
       "79.0"
      ]
     },
     "execution_count": 55,
     "metadata": {},
     "output_type": "execute_result"
    }
   ],
   "source": [
    "237 / 3"
   ]
  },
  {
   "cell_type": "code",
   "execution_count": 52,
   "metadata": {},
   "outputs": [
    {
     "data": {
      "text/plain": [
       "['IXI-data/multimodal_registration/dti00_t1_L1Only/IXI012-HH-1211-T1.nii.gz',\n",
       " 'IXI-data/multimodal_registration/dti00_t1_L1Only/IXI013-HH-1212-T1.nii.gz',\n",
       " 'IXI-data/multimodal_registration/dti00_t1_L1Only/IXI025-Guys-0852-T1.nii.gz',\n",
       " 'IXI-data/multimodal_registration/dti00_t1_L1Only/IXI034-HH-1260-T1.nii.gz',\n",
       " 'IXI-data/multimodal_registration/dti00_t1_L1Only/IXI046-Guys-0824-T1.nii.gz',\n",
       " 'IXI-data/multimodal_registration/dti00_t1_L1Only/IXI048-HH-1326-T1.nii.gz',\n",
       " 'IXI-data/multimodal_registration/dti00_t1_L1Only/IXI049-HH-1358-T1.nii.gz',\n",
       " 'IXI-data/multimodal_registration/dti00_t1_L1Only/IXI051-HH-1328-T1.nii.gz',\n",
       " 'IXI-data/multimodal_registration/dti00_t1_L1Only/IXI057-HH-1342-T1.nii.gz',\n",
       " 'IXI-data/multimodal_registration/dti00_t1_L1Only/IXI059-HH-1284-T1.nii.gz',\n",
       " 'IXI-data/multimodal_registration/dti00_t1_L1Only/IXI079-HH-1388-T1.nii.gz',\n",
       " 'IXI-data/multimodal_registration/dti00_t1_L1Only/IXI097-HH-1619-T1.nii.gz',\n",
       " 'IXI-data/multimodal_registration/dti00_t1_L1Only/IXI131-HH-1527-T1.nii.gz',\n",
       " 'IXI-data/multimodal_registration/dti00_t1_L1Only/IXI162-HH-1548-T1.nii.gz',\n",
       " 'IXI-data/multimodal_registration/dti00_t1_L1Only/IXI174-HH-1571-T1.nii.gz',\n",
       " 'IXI-data/multimodal_registration/dti00_t1_L1Only/IXI176-HH-1604-T1.nii.gz',\n",
       " 'IXI-data/multimodal_registration/dti00_t1_L1Only/IXI202-HH-1526-T1.nii.gz',\n",
       " 'IXI-data/multimodal_registration/dti00_t1_L1Only/IXI211-HH-1568-T1.nii.gz',\n",
       " 'IXI-data/multimodal_registration/dti00_t1_L1Only/IXI221-HH-1606-T1.nii.gz',\n",
       " 'IXI-data/multimodal_registration/dti00_t1_L1Only/IXI244-Guys-0841-T1.nii.gz',\n",
       " 'IXI-data/multimodal_registration/dti00_t1_L1Only/IXI246-Guys-0840-T1.nii.gz',\n",
       " 'IXI-data/multimodal_registration/dti00_t1_L1Only/IXI250-Guys-0836-T1.nii.gz',\n",
       " 'IXI-data/multimodal_registration/dti00_t1_L1Only/IXI257-HH-1724-T1.nii.gz',\n",
       " 'IXI-data/multimodal_registration/dti00_t1_L1Only/IXI261-HH-1704-T1.nii.gz',\n",
       " 'IXI-data/multimodal_registration/dti00_t1_L1Only/IXI265-Guys-0845-T1.nii.gz',\n",
       " 'IXI-data/multimodal_registration/dti00_t1_L1Only/IXI277-HH-1770-T1.nii.gz',\n",
       " 'IXI-data/multimodal_registration/dti00_t1_L1Only/IXI278-HH-1771-T1.nii.gz',\n",
       " 'IXI-data/multimodal_registration/dti00_t1_L1Only/IXI280-HH-1860-T1.nii.gz',\n",
       " 'IXI-data/multimodal_registration/dti00_t1_L1Only/IXI288-Guys-0879-T1.nii.gz',\n",
       " 'IXI-data/multimodal_registration/dti00_t1_L1Only/IXI308-Guys-0884-T1.nii.gz',\n",
       " 'IXI-data/multimodal_registration/dti00_t1_L1Only/IXI329-HH-1908-T1.nii.gz',\n",
       " 'IXI-data/multimodal_registration/dti00_t1_L1Only/IXI341-Guys-0906-T1.nii.gz',\n",
       " 'IXI-data/multimodal_registration/dti00_t1_L1Only/IXI356-HH-2049-T1.nii.gz',\n",
       " 'IXI-data/multimodal_registration/dti00_t1_L1Only/IXI365-Guys-0923-T1.nii.gz',\n",
       " 'IXI-data/multimodal_registration/dti00_t1_L1Only/IXI369-Guys-0924-T1.nii.gz',\n",
       " 'IXI-data/multimodal_registration/dti00_t1_L1Only/IXI393-Guys-0941-T1.nii.gz',\n",
       " 'IXI-data/multimodal_registration/dti00_t1_L1Only/IXI396-HH-2115-T1.nii.gz',\n",
       " 'IXI-data/multimodal_registration/dti00_t1_L1Only/IXI411-Guys-0959-T1.nii.gz',\n",
       " 'IXI-data/multimodal_registration/dti00_t1_L1Only/IXI416-Guys-1051-T1.nii.gz',\n",
       " 'IXI-data/multimodal_registration/dti00_t1_L1Only/IXI418-Guys-0956-T1.nii.gz',\n",
       " 'IXI-data/multimodal_registration/dti00_t1_L1Only/IXI436-HH-2153-T1.nii.gz',\n",
       " 'IXI-data/multimodal_registration/dti00_t1_L1Only/IXI441-HH-2154-T1.nii.gz',\n",
       " 'IXI-data/multimodal_registration/dti00_t1_L1Only/IXI448-HH-2393-T1.nii.gz',\n",
       " 'IXI-data/multimodal_registration/dti00_t1_L1Only/IXI451-HH-2212-T1.nii.gz',\n",
       " 'IXI-data/multimodal_registration/dti00_t1_L1Only/IXI458-Guys-0993-T1.nii.gz',\n",
       " 'IXI-data/multimodal_registration/dti00_t1_L1Only/IXI460-Guys-0999-T1.nii.gz',\n",
       " 'IXI-data/multimodal_registration/dti00_t1_L1Only/IXI465-HH-2176-T1.nii.gz',\n",
       " 'IXI-data/multimodal_registration/dti00_t1_L1Only/IXI482-HH-2178-T1.nii.gz',\n",
       " 'IXI-data/multimodal_registration/dti00_t1_L1Only/IXI488-Guys-1015-T1.nii.gz',\n",
       " 'IXI-data/multimodal_registration/dti00_t1_L1Only/IXI490-Guys-1018-T1.nii.gz',\n",
       " 'IXI-data/multimodal_registration/dti00_t1_L1Only/IXI492-Guys-1022-T1.nii.gz',\n",
       " 'IXI-data/multimodal_registration/dti00_t1_L1Only/IXI493-Guys-1007-T1.nii.gz',\n",
       " 'IXI-data/multimodal_registration/dti00_t1_L1Only/IXI495-Guys-1009-T1.nii.gz',\n",
       " 'IXI-data/multimodal_registration/dti00_t1_L1Only/IXI502-Guys-1020-T1.nii.gz',\n",
       " 'IXI-data/multimodal_registration/dti00_t1_L1Only/IXI515-HH-2377-T1.nii.gz',\n",
       " 'IXI-data/multimodal_registration/dti00_t1_L1Only/IXI518-HH-2239-T1.nii.gz',\n",
       " 'IXI-data/multimodal_registration/dti00_t1_L1Only/IXI522-HH-2453-T1.nii.gz',\n",
       " 'IXI-data/multimodal_registration/dti00_t1_L1Only/IXI527-HH-2376-T1.nii.gz',\n",
       " 'IXI-data/multimodal_registration/dti00_t1_L1Only/IXI528-Guys-1073-T1.nii.gz',\n",
       " 'IXI-data/multimodal_registration/dti00_t1_L1Only/IXI539-Guys-1067-T1.nii.gz',\n",
       " 'IXI-data/multimodal_registration/dti00_t1_L1Only/IXI546-HH-2450-T1.nii.gz',\n",
       " 'IXI-data/multimodal_registration/dti00_t1_L1Only/IXI551-Guys-1065-T1.nii.gz',\n",
       " 'IXI-data/multimodal_registration/dti00_t1_L1Only/IXI556-HH-2452-T1.nii.gz',\n",
       " 'IXI-data/multimodal_registration/dti00_t1_L1Only/IXI559-HH-2394-T1.nii.gz',\n",
       " 'IXI-data/multimodal_registration/dti00_t1_L1Only/IXI565-HH-2534-T1.nii.gz',\n",
       " 'IXI-data/multimodal_registration/dti00_t1_L1Only/IXI569-Guys-1101-T1.nii.gz',\n",
       " 'IXI-data/multimodal_registration/dti00_t1_L1Only/IXI582-Guys-1127-T1.nii.gz',\n",
       " 'IXI-data/multimodal_registration/dti00_t1_L1Only/IXI592-Guys-1085-T1.nii.gz',\n",
       " 'IXI-data/multimodal_registration/dti00_t1_L1Only/IXI598-HH-2606-T1.nii.gz',\n",
       " 'IXI-data/multimodal_registration/dti00_t1_L1Only/IXI613-HH-2734-T1.nii.gz',\n",
       " 'IXI-data/multimodal_registration/dti00_t1_L1Only/IXI617-Guys-1090-T1.nii.gz',\n",
       " 'IXI-data/multimodal_registration/dti00_t1_L1Only/IXI623-Guys-1076-T1.nii.gz',\n",
       " 'IXI-data/multimodal_registration/dti00_t1_L1Only/IXI632-HH-2652-T1.nii.gz',\n",
       " 'IXI-data/multimodal_registration/dti00_t1_L1Only/IXI633-HH-2689-T1.nii.gz',\n",
       " 'IXI-data/multimodal_registration/dti00_t1_L1Only/IXI634-HH-2690-T1.nii.gz',\n",
       " 'IXI-data/multimodal_registration/dti00_t1_L1Only/IXI636-HH-2733-T1.nii.gz',\n",
       " 'IXI-data/multimodal_registration/dti00_t1_L1Only/IXI642-Guys-1104-T1.nii.gz',\n",
       " 'IXI-data/multimodal_registration/dti00_t1_L1Only/IXI644-Guys-1121-T1.nii.gz',\n",
       " 'IXI-data/multimodal_registration/dti00_t1_L1Only/IXI652-Guys-1116-T1.nii.gz',\n",
       " 'IXI-data/multimodal_registration/dti00_t1_cgan/IXI012-HH-1211-T1.nii.gz',\n",
       " 'IXI-data/multimodal_registration/dti00_t1_cgan/IXI013-HH-1212-T1.nii.gz',\n",
       " 'IXI-data/multimodal_registration/dti00_t1_cgan/IXI025-Guys-0852-T1.nii.gz',\n",
       " 'IXI-data/multimodal_registration/dti00_t1_cgan/IXI034-HH-1260-T1.nii.gz',\n",
       " 'IXI-data/multimodal_registration/dti00_t1_cgan/IXI046-Guys-0824-T1.nii.gz',\n",
       " 'IXI-data/multimodal_registration/dti00_t1_cgan/IXI048-HH-1326-T1.nii.gz',\n",
       " 'IXI-data/multimodal_registration/dti00_t1_cgan/IXI049-HH-1358-T1.nii.gz',\n",
       " 'IXI-data/multimodal_registration/dti00_t1_cgan/IXI051-HH-1328-T1.nii.gz',\n",
       " 'IXI-data/multimodal_registration/dti00_t1_cgan/IXI057-HH-1342-T1.nii.gz',\n",
       " 'IXI-data/multimodal_registration/dti00_t1_cgan/IXI059-HH-1284-T1.nii.gz',\n",
       " 'IXI-data/multimodal_registration/dti00_t1_cgan/IXI079-HH-1388-T1.nii.gz',\n",
       " 'IXI-data/multimodal_registration/dti00_t1_cgan/IXI097-HH-1619-T1.nii.gz',\n",
       " 'IXI-data/multimodal_registration/dti00_t1_cgan/IXI131-HH-1527-T1.nii.gz',\n",
       " 'IXI-data/multimodal_registration/dti00_t1_cgan/IXI162-HH-1548-T1.nii.gz',\n",
       " 'IXI-data/multimodal_registration/dti00_t1_cgan/IXI174-HH-1571-T1.nii.gz',\n",
       " 'IXI-data/multimodal_registration/dti00_t1_cgan/IXI176-HH-1604-T1.nii.gz',\n",
       " 'IXI-data/multimodal_registration/dti00_t1_cgan/IXI202-HH-1526-T1.nii.gz',\n",
       " 'IXI-data/multimodal_registration/dti00_t1_cgan/IXI211-HH-1568-T1.nii.gz',\n",
       " 'IXI-data/multimodal_registration/dti00_t1_cgan/IXI221-HH-1606-T1.nii.gz',\n",
       " 'IXI-data/multimodal_registration/dti00_t1_cgan/IXI244-Guys-0841-T1.nii.gz',\n",
       " 'IXI-data/multimodal_registration/dti00_t1_cgan/IXI246-Guys-0840-T1.nii.gz',\n",
       " 'IXI-data/multimodal_registration/dti00_t1_cgan/IXI250-Guys-0836-T1.nii.gz',\n",
       " 'IXI-data/multimodal_registration/dti00_t1_cgan/IXI257-HH-1724-T1.nii.gz',\n",
       " 'IXI-data/multimodal_registration/dti00_t1_cgan/IXI261-HH-1704-T1.nii.gz',\n",
       " 'IXI-data/multimodal_registration/dti00_t1_cgan/IXI265-Guys-0845-T1.nii.gz',\n",
       " 'IXI-data/multimodal_registration/dti00_t1_cgan/IXI277-HH-1770-T1.nii.gz',\n",
       " 'IXI-data/multimodal_registration/dti00_t1_cgan/IXI278-HH-1771-T1.nii.gz',\n",
       " 'IXI-data/multimodal_registration/dti00_t1_cgan/IXI280-HH-1860-T1.nii.gz',\n",
       " 'IXI-data/multimodal_registration/dti00_t1_cgan/IXI288-Guys-0879-T1.nii.gz',\n",
       " 'IXI-data/multimodal_registration/dti00_t1_cgan/IXI308-Guys-0884-T1.nii.gz',\n",
       " 'IXI-data/multimodal_registration/dti00_t1_cgan/IXI329-HH-1908-T1.nii.gz',\n",
       " 'IXI-data/multimodal_registration/dti00_t1_cgan/IXI341-Guys-0906-T1.nii.gz',\n",
       " 'IXI-data/multimodal_registration/dti00_t1_cgan/IXI356-HH-2049-T1.nii.gz',\n",
       " 'IXI-data/multimodal_registration/dti00_t1_cgan/IXI365-Guys-0923-T1.nii.gz',\n",
       " 'IXI-data/multimodal_registration/dti00_t1_cgan/IXI369-Guys-0924-T1.nii.gz',\n",
       " 'IXI-data/multimodal_registration/dti00_t1_cgan/IXI393-Guys-0941-T1.nii.gz',\n",
       " 'IXI-data/multimodal_registration/dti00_t1_cgan/IXI396-HH-2115-T1.nii.gz',\n",
       " 'IXI-data/multimodal_registration/dti00_t1_cgan/IXI411-Guys-0959-T1.nii.gz',\n",
       " 'IXI-data/multimodal_registration/dti00_t1_cgan/IXI416-Guys-1051-T1.nii.gz',\n",
       " 'IXI-data/multimodal_registration/dti00_t1_cgan/IXI418-Guys-0956-T1.nii.gz',\n",
       " 'IXI-data/multimodal_registration/dti00_t1_cgan/IXI436-HH-2153-T1.nii.gz',\n",
       " 'IXI-data/multimodal_registration/dti00_t1_cgan/IXI441-HH-2154-T1.nii.gz',\n",
       " 'IXI-data/multimodal_registration/dti00_t1_cgan/IXI448-HH-2393-T1.nii.gz',\n",
       " 'IXI-data/multimodal_registration/dti00_t1_cgan/IXI451-HH-2212-T1.nii.gz',\n",
       " 'IXI-data/multimodal_registration/dti00_t1_cgan/IXI458-Guys-0993-T1.nii.gz',\n",
       " 'IXI-data/multimodal_registration/dti00_t1_cgan/IXI460-Guys-0999-T1.nii.gz',\n",
       " 'IXI-data/multimodal_registration/dti00_t1_cgan/IXI465-HH-2176-T1.nii.gz',\n",
       " 'IXI-data/multimodal_registration/dti00_t1_cgan/IXI482-HH-2178-T1.nii.gz',\n",
       " 'IXI-data/multimodal_registration/dti00_t1_cgan/IXI488-Guys-1015-T1.nii.gz',\n",
       " 'IXI-data/multimodal_registration/dti00_t1_cgan/IXI490-Guys-1018-T1.nii.gz',\n",
       " 'IXI-data/multimodal_registration/dti00_t1_cgan/IXI492-Guys-1022-T1.nii.gz',\n",
       " 'IXI-data/multimodal_registration/dti00_t1_cgan/IXI493-Guys-1007-T1.nii.gz',\n",
       " 'IXI-data/multimodal_registration/dti00_t1_cgan/IXI495-Guys-1009-T1.nii.gz',\n",
       " 'IXI-data/multimodal_registration/dti00_t1_cgan/IXI502-Guys-1020-T1.nii.gz',\n",
       " 'IXI-data/multimodal_registration/dti00_t1_cgan/IXI515-HH-2377-T1.nii.gz',\n",
       " 'IXI-data/multimodal_registration/dti00_t1_cgan/IXI518-HH-2239-T1.nii.gz',\n",
       " 'IXI-data/multimodal_registration/dti00_t1_cgan/IXI522-HH-2453-T1.nii.gz',\n",
       " 'IXI-data/multimodal_registration/dti00_t1_cgan/IXI527-HH-2376-T1.nii.gz',\n",
       " 'IXI-data/multimodal_registration/dti00_t1_cgan/IXI528-Guys-1073-T1.nii.gz',\n",
       " 'IXI-data/multimodal_registration/dti00_t1_cgan/IXI539-Guys-1067-T1.nii.gz',\n",
       " 'IXI-data/multimodal_registration/dti00_t1_cgan/IXI546-HH-2450-T1.nii.gz',\n",
       " 'IXI-data/multimodal_registration/dti00_t1_cgan/IXI551-Guys-1065-T1.nii.gz',\n",
       " 'IXI-data/multimodal_registration/dti00_t1_cgan/IXI556-HH-2452-T1.nii.gz',\n",
       " 'IXI-data/multimodal_registration/dti00_t1_cgan/IXI559-HH-2394-T1.nii.gz',\n",
       " 'IXI-data/multimodal_registration/dti00_t1_cgan/IXI565-HH-2534-T1.nii.gz',\n",
       " 'IXI-data/multimodal_registration/dti00_t1_cgan/IXI569-Guys-1101-T1.nii.gz',\n",
       " 'IXI-data/multimodal_registration/dti00_t1_cgan/IXI582-Guys-1127-T1.nii.gz',\n",
       " 'IXI-data/multimodal_registration/dti00_t1_cgan/IXI592-Guys-1085-T1.nii.gz',\n",
       " 'IXI-data/multimodal_registration/dti00_t1_cgan/IXI598-HH-2606-T1.nii.gz',\n",
       " 'IXI-data/multimodal_registration/dti00_t1_cgan/IXI613-HH-2734-T1.nii.gz',\n",
       " 'IXI-data/multimodal_registration/dti00_t1_cgan/IXI617-Guys-1090-T1.nii.gz',\n",
       " 'IXI-data/multimodal_registration/dti00_t1_cgan/IXI623-Guys-1076-T1.nii.gz',\n",
       " 'IXI-data/multimodal_registration/dti00_t1_cgan/IXI632-HH-2652-T1.nii.gz',\n",
       " 'IXI-data/multimodal_registration/dti00_t1_cgan/IXI633-HH-2689-T1.nii.gz',\n",
       " 'IXI-data/multimodal_registration/dti00_t1_cgan/IXI634-HH-2690-T1.nii.gz',\n",
       " 'IXI-data/multimodal_registration/dti00_t1_cgan/IXI636-HH-2733-T1.nii.gz',\n",
       " 'IXI-data/multimodal_registration/dti00_t1_cgan/IXI642-Guys-1104-T1.nii.gz',\n",
       " 'IXI-data/multimodal_registration/dti00_t1_cgan/IXI644-Guys-1121-T1.nii.gz',\n",
       " 'IXI-data/multimodal_registration/dti00_t1_cgan/IXI652-Guys-1116-T1.nii.gz',\n",
       " 'IXI-data/multimodal_registration/dti00_t1_cgan_L1/IXI012-HH-1211-T1.nii.gz',\n",
       " 'IXI-data/multimodal_registration/dti00_t1_cgan_L1/IXI013-HH-1212-T1.nii.gz',\n",
       " 'IXI-data/multimodal_registration/dti00_t1_cgan_L1/IXI025-Guys-0852-T1.nii.gz',\n",
       " 'IXI-data/multimodal_registration/dti00_t1_cgan_L1/IXI034-HH-1260-T1.nii.gz',\n",
       " 'IXI-data/multimodal_registration/dti00_t1_cgan_L1/IXI046-Guys-0824-T1.nii.gz',\n",
       " 'IXI-data/multimodal_registration/dti00_t1_cgan_L1/IXI048-HH-1326-T1.nii.gz',\n",
       " 'IXI-data/multimodal_registration/dti00_t1_cgan_L1/IXI049-HH-1358-T1.nii.gz',\n",
       " 'IXI-data/multimodal_registration/dti00_t1_cgan_L1/IXI051-HH-1328-T1.nii.gz',\n",
       " 'IXI-data/multimodal_registration/dti00_t1_cgan_L1/IXI057-HH-1342-T1.nii.gz',\n",
       " 'IXI-data/multimodal_registration/dti00_t1_cgan_L1/IXI059-HH-1284-T1.nii.gz',\n",
       " 'IXI-data/multimodal_registration/dti00_t1_cgan_L1/IXI079-HH-1388-T1.nii.gz',\n",
       " 'IXI-data/multimodal_registration/dti00_t1_cgan_L1/IXI097-HH-1619-T1.nii.gz',\n",
       " 'IXI-data/multimodal_registration/dti00_t1_cgan_L1/IXI131-HH-1527-T1.nii.gz',\n",
       " 'IXI-data/multimodal_registration/dti00_t1_cgan_L1/IXI162-HH-1548-T1.nii.gz',\n",
       " 'IXI-data/multimodal_registration/dti00_t1_cgan_L1/IXI174-HH-1571-T1.nii.gz',\n",
       " 'IXI-data/multimodal_registration/dti00_t1_cgan_L1/IXI176-HH-1604-T1.nii.gz',\n",
       " 'IXI-data/multimodal_registration/dti00_t1_cgan_L1/IXI202-HH-1526-T1.nii.gz',\n",
       " 'IXI-data/multimodal_registration/dti00_t1_cgan_L1/IXI211-HH-1568-T1.nii.gz',\n",
       " 'IXI-data/multimodal_registration/dti00_t1_cgan_L1/IXI221-HH-1606-T1.nii.gz',\n",
       " 'IXI-data/multimodal_registration/dti00_t1_cgan_L1/IXI244-Guys-0841-T1.nii.gz',\n",
       " 'IXI-data/multimodal_registration/dti00_t1_cgan_L1/IXI246-Guys-0840-T1.nii.gz',\n",
       " 'IXI-data/multimodal_registration/dti00_t1_cgan_L1/IXI250-Guys-0836-T1.nii.gz',\n",
       " 'IXI-data/multimodal_registration/dti00_t1_cgan_L1/IXI257-HH-1724-T1.nii.gz',\n",
       " 'IXI-data/multimodal_registration/dti00_t1_cgan_L1/IXI261-HH-1704-T1.nii.gz',\n",
       " 'IXI-data/multimodal_registration/dti00_t1_cgan_L1/IXI265-Guys-0845-T1.nii.gz',\n",
       " 'IXI-data/multimodal_registration/dti00_t1_cgan_L1/IXI277-HH-1770-T1.nii.gz',\n",
       " 'IXI-data/multimodal_registration/dti00_t1_cgan_L1/IXI278-HH-1771-T1.nii.gz',\n",
       " 'IXI-data/multimodal_registration/dti00_t1_cgan_L1/IXI280-HH-1860-T1.nii.gz',\n",
       " 'IXI-data/multimodal_registration/dti00_t1_cgan_L1/IXI288-Guys-0879-T1.nii.gz',\n",
       " 'IXI-data/multimodal_registration/dti00_t1_cgan_L1/IXI308-Guys-0884-T1.nii.gz',\n",
       " 'IXI-data/multimodal_registration/dti00_t1_cgan_L1/IXI329-HH-1908-T1.nii.gz',\n",
       " 'IXI-data/multimodal_registration/dti00_t1_cgan_L1/IXI341-Guys-0906-T1.nii.gz',\n",
       " 'IXI-data/multimodal_registration/dti00_t1_cgan_L1/IXI356-HH-2049-T1.nii.gz',\n",
       " 'IXI-data/multimodal_registration/dti00_t1_cgan_L1/IXI365-Guys-0923-T1.nii.gz',\n",
       " 'IXI-data/multimodal_registration/dti00_t1_cgan_L1/IXI369-Guys-0924-T1.nii.gz',\n",
       " 'IXI-data/multimodal_registration/dti00_t1_cgan_L1/IXI393-Guys-0941-T1.nii.gz',\n",
       " 'IXI-data/multimodal_registration/dti00_t1_cgan_L1/IXI396-HH-2115-T1.nii.gz',\n",
       " 'IXI-data/multimodal_registration/dti00_t1_cgan_L1/IXI411-Guys-0959-T1.nii.gz',\n",
       " 'IXI-data/multimodal_registration/dti00_t1_cgan_L1/IXI416-Guys-1051-T1.nii.gz',\n",
       " 'IXI-data/multimodal_registration/dti00_t1_cgan_L1/IXI418-Guys-0956-T1.nii.gz',\n",
       " 'IXI-data/multimodal_registration/dti00_t1_cgan_L1/IXI436-HH-2153-T1.nii.gz',\n",
       " 'IXI-data/multimodal_registration/dti00_t1_cgan_L1/IXI441-HH-2154-T1.nii.gz',\n",
       " 'IXI-data/multimodal_registration/dti00_t1_cgan_L1/IXI448-HH-2393-T1.nii.gz',\n",
       " 'IXI-data/multimodal_registration/dti00_t1_cgan_L1/IXI451-HH-2212-T1.nii.gz',\n",
       " 'IXI-data/multimodal_registration/dti00_t1_cgan_L1/IXI458-Guys-0993-T1.nii.gz',\n",
       " 'IXI-data/multimodal_registration/dti00_t1_cgan_L1/IXI460-Guys-0999-T1.nii.gz',\n",
       " 'IXI-data/multimodal_registration/dti00_t1_cgan_L1/IXI465-HH-2176-T1.nii.gz',\n",
       " 'IXI-data/multimodal_registration/dti00_t1_cgan_L1/IXI482-HH-2178-T1.nii.gz',\n",
       " 'IXI-data/multimodal_registration/dti00_t1_cgan_L1/IXI488-Guys-1015-T1.nii.gz',\n",
       " 'IXI-data/multimodal_registration/dti00_t1_cgan_L1/IXI490-Guys-1018-T1.nii.gz',\n",
       " 'IXI-data/multimodal_registration/dti00_t1_cgan_L1/IXI492-Guys-1022-T1.nii.gz',\n",
       " 'IXI-data/multimodal_registration/dti00_t1_cgan_L1/IXI493-Guys-1007-T1.nii.gz',\n",
       " 'IXI-data/multimodal_registration/dti00_t1_cgan_L1/IXI495-Guys-1009-T1.nii.gz',\n",
       " 'IXI-data/multimodal_registration/dti00_t1_cgan_L1/IXI502-Guys-1020-T1.nii.gz',\n",
       " 'IXI-data/multimodal_registration/dti00_t1_cgan_L1/IXI515-HH-2377-T1.nii.gz',\n",
       " 'IXI-data/multimodal_registration/dti00_t1_cgan_L1/IXI518-HH-2239-T1.nii.gz',\n",
       " 'IXI-data/multimodal_registration/dti00_t1_cgan_L1/IXI522-HH-2453-T1.nii.gz',\n",
       " 'IXI-data/multimodal_registration/dti00_t1_cgan_L1/IXI527-HH-2376-T1.nii.gz',\n",
       " 'IXI-data/multimodal_registration/dti00_t1_cgan_L1/IXI528-Guys-1073-T1.nii.gz',\n",
       " 'IXI-data/multimodal_registration/dti00_t1_cgan_L1/IXI539-Guys-1067-T1.nii.gz',\n",
       " 'IXI-data/multimodal_registration/dti00_t1_cgan_L1/IXI546-HH-2450-T1.nii.gz',\n",
       " 'IXI-data/multimodal_registration/dti00_t1_cgan_L1/IXI551-Guys-1065-T1.nii.gz',\n",
       " 'IXI-data/multimodal_registration/dti00_t1_cgan_L1/IXI556-HH-2452-T1.nii.gz',\n",
       " 'IXI-data/multimodal_registration/dti00_t1_cgan_L1/IXI559-HH-2394-T1.nii.gz',\n",
       " 'IXI-data/multimodal_registration/dti00_t1_cgan_L1/IXI565-HH-2534-T1.nii.gz',\n",
       " 'IXI-data/multimodal_registration/dti00_t1_cgan_L1/IXI569-Guys-1101-T1.nii.gz',\n",
       " 'IXI-data/multimodal_registration/dti00_t1_cgan_L1/IXI582-Guys-1127-T1.nii.gz',\n",
       " 'IXI-data/multimodal_registration/dti00_t1_cgan_L1/IXI592-Guys-1085-T1.nii.gz',\n",
       " 'IXI-data/multimodal_registration/dti00_t1_cgan_L1/IXI598-HH-2606-T1.nii.gz',\n",
       " 'IXI-data/multimodal_registration/dti00_t1_cgan_L1/IXI613-HH-2734-T1.nii.gz',\n",
       " 'IXI-data/multimodal_registration/dti00_t1_cgan_L1/IXI617-Guys-1090-T1.nii.gz',\n",
       " 'IXI-data/multimodal_registration/dti00_t1_cgan_L1/IXI623-Guys-1076-T1.nii.gz',\n",
       " 'IXI-data/multimodal_registration/dti00_t1_cgan_L1/IXI632-HH-2652-T1.nii.gz',\n",
       " 'IXI-data/multimodal_registration/dti00_t1_cgan_L1/IXI633-HH-2689-T1.nii.gz',\n",
       " 'IXI-data/multimodal_registration/dti00_t1_cgan_L1/IXI634-HH-2690-T1.nii.gz',\n",
       " 'IXI-data/multimodal_registration/dti00_t1_cgan_L1/IXI636-HH-2733-T1.nii.gz',\n",
       " 'IXI-data/multimodal_registration/dti00_t1_cgan_L1/IXI642-Guys-1104-T1.nii.gz',\n",
       " 'IXI-data/multimodal_registration/dti00_t1_cgan_L1/IXI644-Guys-1121-T1.nii.gz',\n",
       " 'IXI-data/multimodal_registration/dti00_t1_cgan_L1/IXI652-Guys-1116-T1.nii.gz',\n",
       " 'IXI-data/multimodal_registration/dti00_t1_cgan_percept/IXI012-HH-1211-T1.nii.gz',\n",
       " 'IXI-data/multimodal_registration/dti00_t1_cgan_percept/IXI013-HH-1212-T1.nii.gz',\n",
       " 'IXI-data/multimodal_registration/dti00_t1_cgan_percept/IXI025-Guys-0852-T1.nii.gz',\n",
       " 'IXI-data/multimodal_registration/dti00_t1_cgan_percept/IXI034-HH-1260-T1.nii.gz',\n",
       " 'IXI-data/multimodal_registration/dti00_t1_cgan_percept/IXI046-Guys-0824-T1.nii.gz',\n",
       " 'IXI-data/multimodal_registration/dti00_t1_cgan_percept/IXI048-HH-1326-T1.nii.gz',\n",
       " 'IXI-data/multimodal_registration/dti00_t1_cgan_percept/IXI049-HH-1358-T1.nii.gz',\n",
       " 'IXI-data/multimodal_registration/dti00_t1_cgan_percept/IXI051-HH-1328-T1.nii.gz',\n",
       " 'IXI-data/multimodal_registration/dti00_t1_cgan_percept/IXI057-HH-1342-T1.nii.gz',\n",
       " 'IXI-data/multimodal_registration/dti00_t1_cgan_percept/IXI059-HH-1284-T1.nii.gz',\n",
       " 'IXI-data/multimodal_registration/dti00_t1_cgan_percept/IXI079-HH-1388-T1.nii.gz',\n",
       " 'IXI-data/multimodal_registration/dti00_t1_cgan_percept/IXI097-HH-1619-T1.nii.gz',\n",
       " 'IXI-data/multimodal_registration/dti00_t1_cgan_percept/IXI131-HH-1527-T1.nii.gz',\n",
       " 'IXI-data/multimodal_registration/dti00_t1_cgan_percept/IXI162-HH-1548-T1.nii.gz',\n",
       " 'IXI-data/multimodal_registration/dti00_t1_cgan_percept/IXI174-HH-1571-T1.nii.gz',\n",
       " 'IXI-data/multimodal_registration/dti00_t1_cgan_percept/IXI176-HH-1604-T1.nii.gz',\n",
       " 'IXI-data/multimodal_registration/dti00_t1_cgan_percept/IXI202-HH-1526-T1.nii.gz',\n",
       " 'IXI-data/multimodal_registration/dti00_t1_cgan_percept/IXI211-HH-1568-T1.nii.gz',\n",
       " 'IXI-data/multimodal_registration/dti00_t1_cgan_percept/IXI221-HH-1606-T1.nii.gz',\n",
       " 'IXI-data/multimodal_registration/dti00_t1_cgan_percept/IXI244-Guys-0841-T1.nii.gz',\n",
       " 'IXI-data/multimodal_registration/dti00_t1_cgan_percept/IXI246-Guys-0840-T1.nii.gz',\n",
       " 'IXI-data/multimodal_registration/dti00_t1_cgan_percept/IXI250-Guys-0836-T1.nii.gz',\n",
       " 'IXI-data/multimodal_registration/dti00_t1_cgan_percept/IXI257-HH-1724-T1.nii.gz',\n",
       " 'IXI-data/multimodal_registration/dti00_t1_cgan_percept/IXI261-HH-1704-T1.nii.gz',\n",
       " 'IXI-data/multimodal_registration/dti00_t1_cgan_percept/IXI265-Guys-0845-T1.nii.gz',\n",
       " 'IXI-data/multimodal_registration/dti00_t1_cgan_percept/IXI277-HH-1770-T1.nii.gz',\n",
       " 'IXI-data/multimodal_registration/dti00_t1_cgan_percept/IXI278-HH-1771-T1.nii.gz',\n",
       " 'IXI-data/multimodal_registration/dti00_t1_cgan_percept/IXI280-HH-1860-T1.nii.gz',\n",
       " 'IXI-data/multimodal_registration/dti00_t1_cgan_percept/IXI288-Guys-0879-T1.nii.gz',\n",
       " 'IXI-data/multimodal_registration/dti00_t1_cgan_percept/IXI308-Guys-0884-T1.nii.gz',\n",
       " 'IXI-data/multimodal_registration/dti00_t1_cgan_percept/IXI329-HH-1908-T1.nii.gz',\n",
       " 'IXI-data/multimodal_registration/dti00_t1_cgan_percept/IXI341-Guys-0906-T1.nii.gz',\n",
       " 'IXI-data/multimodal_registration/dti00_t1_cgan_percept/IXI356-HH-2049-T1.nii.gz',\n",
       " 'IXI-data/multimodal_registration/dti00_t1_cgan_percept/IXI365-Guys-0923-T1.nii.gz',\n",
       " 'IXI-data/multimodal_registration/dti00_t1_cgan_percept/IXI369-Guys-0924-T1.nii.gz',\n",
       " 'IXI-data/multimodal_registration/dti00_t1_cgan_percept/IXI393-Guys-0941-T1.nii.gz',\n",
       " 'IXI-data/multimodal_registration/dti00_t1_cgan_percept/IXI396-HH-2115-T1.nii.gz',\n",
       " 'IXI-data/multimodal_registration/dti00_t1_cgan_percept/IXI411-Guys-0959-T1.nii.gz',\n",
       " 'IXI-data/multimodal_registration/dti00_t1_cgan_percept/IXI416-Guys-1051-T1.nii.gz',\n",
       " 'IXI-data/multimodal_registration/dti00_t1_cgan_percept/IXI418-Guys-0956-T1.nii.gz',\n",
       " 'IXI-data/multimodal_registration/dti00_t1_cgan_percept/IXI436-HH-2153-T1.nii.gz',\n",
       " 'IXI-data/multimodal_registration/dti00_t1_cgan_percept/IXI441-HH-2154-T1.nii.gz',\n",
       " 'IXI-data/multimodal_registration/dti00_t1_cgan_percept/IXI448-HH-2393-T1.nii.gz',\n",
       " 'IXI-data/multimodal_registration/dti00_t1_cgan_percept/IXI451-HH-2212-T1.nii.gz',\n",
       " 'IXI-data/multimodal_registration/dti00_t1_cgan_percept/IXI458-Guys-0993-T1.nii.gz',\n",
       " 'IXI-data/multimodal_registration/dti00_t1_cgan_percept/IXI460-Guys-0999-T1.nii.gz',\n",
       " 'IXI-data/multimodal_registration/dti00_t1_cgan_percept/IXI465-HH-2176-T1.nii.gz',\n",
       " 'IXI-data/multimodal_registration/dti00_t1_cgan_percept/IXI482-HH-2178-T1.nii.gz',\n",
       " 'IXI-data/multimodal_registration/dti00_t1_cgan_percept/IXI488-Guys-1015-T1.nii.gz',\n",
       " 'IXI-data/multimodal_registration/dti00_t1_cgan_percept/IXI490-Guys-1018-T1.nii.gz',\n",
       " 'IXI-data/multimodal_registration/dti00_t1_cgan_percept/IXI492-Guys-1022-T1.nii.gz',\n",
       " 'IXI-data/multimodal_registration/dti00_t1_cgan_percept/IXI493-Guys-1007-T1.nii.gz',\n",
       " 'IXI-data/multimodal_registration/dti00_t1_cgan_percept/IXI495-Guys-1009-T1.nii.gz',\n",
       " 'IXI-data/multimodal_registration/dti00_t1_cgan_percept/IXI502-Guys-1020-T1.nii.gz',\n",
       " 'IXI-data/multimodal_registration/dti00_t1_cgan_percept/IXI515-HH-2377-T1.nii.gz',\n",
       " 'IXI-data/multimodal_registration/dti00_t1_cgan_percept/IXI518-HH-2239-T1.nii.gz',\n",
       " 'IXI-data/multimodal_registration/dti00_t1_cgan_percept/IXI522-HH-2453-T1.nii.gz',\n",
       " 'IXI-data/multimodal_registration/dti00_t1_cgan_percept/IXI527-HH-2376-T1.nii.gz',\n",
       " 'IXI-data/multimodal_registration/dti00_t1_cgan_percept/IXI528-Guys-1073-T1.nii.gz',\n",
       " 'IXI-data/multimodal_registration/dti00_t1_cgan_percept/IXI539-Guys-1067-T1.nii.gz',\n",
       " 'IXI-data/multimodal_registration/dti00_t1_cgan_percept/IXI546-HH-2450-T1.nii.gz',\n",
       " 'IXI-data/multimodal_registration/dti00_t1_cgan_percept/IXI551-Guys-1065-T1.nii.gz',\n",
       " 'IXI-data/multimodal_registration/dti00_t1_cgan_percept/IXI556-HH-2452-T1.nii.gz',\n",
       " 'IXI-data/multimodal_registration/dti00_t1_cgan_percept/IXI559-HH-2394-T1.nii.gz',\n",
       " 'IXI-data/multimodal_registration/dti00_t1_cgan_percept/IXI565-HH-2534-T1.nii.gz',\n",
       " 'IXI-data/multimodal_registration/dti00_t1_cgan_percept/IXI569-Guys-1101-T1.nii.gz',\n",
       " 'IXI-data/multimodal_registration/dti00_t1_cgan_percept/IXI582-Guys-1127-T1.nii.gz',\n",
       " 'IXI-data/multimodal_registration/dti00_t1_cgan_percept/IXI592-Guys-1085-T1.nii.gz',\n",
       " 'IXI-data/multimodal_registration/dti00_t1_cgan_percept/IXI598-HH-2606-T1.nii.gz',\n",
       " 'IXI-data/multimodal_registration/dti00_t1_cgan_percept/IXI613-HH-2734-T1.nii.gz',\n",
       " 'IXI-data/multimodal_registration/dti00_t1_cgan_percept/IXI617-Guys-1090-T1.nii.gz',\n",
       " 'IXI-data/multimodal_registration/dti00_t1_cgan_percept/IXI623-Guys-1076-T1.nii.gz',\n",
       " 'IXI-data/multimodal_registration/dti00_t1_cgan_percept/IXI632-HH-2652-T1.nii.gz',\n",
       " 'IXI-data/multimodal_registration/dti00_t1_cgan_percept/IXI633-HH-2689-T1.nii.gz',\n",
       " 'IXI-data/multimodal_registration/dti00_t1_cgan_percept/IXI634-HH-2690-T1.nii.gz',\n",
       " 'IXI-data/multimodal_registration/dti00_t1_cgan_percept/IXI636-HH-2733-T1.nii.gz',\n",
       " 'IXI-data/multimodal_registration/dti00_t1_cgan_percept/IXI642-Guys-1104-T1.nii.gz',\n",
       " 'IXI-data/multimodal_registration/dti00_t1_cgan_percept/IXI644-Guys-1121-T1.nii.gz',\n",
       " 'IXI-data/multimodal_registration/dti00_t1_cgan_percept/IXI652-Guys-1116-T1.nii.gz',\n",
       " 'IXI-data/multimodal_registration/dti00_t1_perceptOnly/IXI012-HH-1211-T1.nii.gz',\n",
       " 'IXI-data/multimodal_registration/dti00_t1_perceptOnly/IXI013-HH-1212-T1.nii.gz',\n",
       " 'IXI-data/multimodal_registration/dti00_t1_perceptOnly/IXI025-Guys-0852-T1.nii.gz',\n",
       " 'IXI-data/multimodal_registration/dti00_t1_perceptOnly/IXI034-HH-1260-T1.nii.gz',\n",
       " 'IXI-data/multimodal_registration/dti00_t1_perceptOnly/IXI046-Guys-0824-T1.nii.gz',\n",
       " 'IXI-data/multimodal_registration/dti00_t1_perceptOnly/IXI048-HH-1326-T1.nii.gz',\n",
       " 'IXI-data/multimodal_registration/dti00_t1_perceptOnly/IXI049-HH-1358-T1.nii.gz',\n",
       " 'IXI-data/multimodal_registration/dti00_t1_perceptOnly/IXI051-HH-1328-T1.nii.gz',\n",
       " 'IXI-data/multimodal_registration/dti00_t1_perceptOnly/IXI057-HH-1342-T1.nii.gz',\n",
       " 'IXI-data/multimodal_registration/dti00_t1_perceptOnly/IXI059-HH-1284-T1.nii.gz',\n",
       " 'IXI-data/multimodal_registration/dti00_t1_perceptOnly/IXI079-HH-1388-T1.nii.gz',\n",
       " 'IXI-data/multimodal_registration/dti00_t1_perceptOnly/IXI097-HH-1619-T1.nii.gz',\n",
       " 'IXI-data/multimodal_registration/dti00_t1_perceptOnly/IXI131-HH-1527-T1.nii.gz',\n",
       " 'IXI-data/multimodal_registration/dti00_t1_perceptOnly/IXI162-HH-1548-T1.nii.gz',\n",
       " 'IXI-data/multimodal_registration/dti00_t1_perceptOnly/IXI174-HH-1571-T1.nii.gz',\n",
       " 'IXI-data/multimodal_registration/dti00_t1_perceptOnly/IXI176-HH-1604-T1.nii.gz',\n",
       " 'IXI-data/multimodal_registration/dti00_t1_perceptOnly/IXI202-HH-1526-T1.nii.gz',\n",
       " 'IXI-data/multimodal_registration/dti00_t1_perceptOnly/IXI211-HH-1568-T1.nii.gz',\n",
       " 'IXI-data/multimodal_registration/dti00_t1_perceptOnly/IXI221-HH-1606-T1.nii.gz',\n",
       " 'IXI-data/multimodal_registration/dti00_t1_perceptOnly/IXI244-Guys-0841-T1.nii.gz',\n",
       " 'IXI-data/multimodal_registration/dti00_t1_perceptOnly/IXI246-Guys-0840-T1.nii.gz',\n",
       " 'IXI-data/multimodal_registration/dti00_t1_perceptOnly/IXI250-Guys-0836-T1.nii.gz',\n",
       " 'IXI-data/multimodal_registration/dti00_t1_perceptOnly/IXI257-HH-1724-T1.nii.gz',\n",
       " 'IXI-data/multimodal_registration/dti00_t1_perceptOnly/IXI261-HH-1704-T1.nii.gz',\n",
       " 'IXI-data/multimodal_registration/dti00_t1_perceptOnly/IXI265-Guys-0845-T1.nii.gz',\n",
       " 'IXI-data/multimodal_registration/dti00_t1_perceptOnly/IXI277-HH-1770-T1.nii.gz',\n",
       " 'IXI-data/multimodal_registration/dti00_t1_perceptOnly/IXI278-HH-1771-T1.nii.gz',\n",
       " 'IXI-data/multimodal_registration/dti00_t1_perceptOnly/IXI280-HH-1860-T1.nii.gz',\n",
       " 'IXI-data/multimodal_registration/dti00_t1_perceptOnly/IXI288-Guys-0879-T1.nii.gz',\n",
       " 'IXI-data/multimodal_registration/dti00_t1_perceptOnly/IXI308-Guys-0884-T1.nii.gz',\n",
       " 'IXI-data/multimodal_registration/dti00_t1_perceptOnly/IXI329-HH-1908-T1.nii.gz',\n",
       " 'IXI-data/multimodal_registration/dti00_t1_perceptOnly/IXI341-Guys-0906-T1.nii.gz',\n",
       " 'IXI-data/multimodal_registration/dti00_t1_perceptOnly/IXI356-HH-2049-T1.nii.gz',\n",
       " 'IXI-data/multimodal_registration/dti00_t1_perceptOnly/IXI365-Guys-0923-T1.nii.gz',\n",
       " 'IXI-data/multimodal_registration/dti00_t1_perceptOnly/IXI369-Guys-0924-T1.nii.gz',\n",
       " 'IXI-data/multimodal_registration/dti00_t1_perceptOnly/IXI393-Guys-0941-T1.nii.gz',\n",
       " 'IXI-data/multimodal_registration/dti00_t1_perceptOnly/IXI396-HH-2115-T1.nii.gz',\n",
       " 'IXI-data/multimodal_registration/dti00_t1_perceptOnly/IXI411-Guys-0959-T1.nii.gz',\n",
       " 'IXI-data/multimodal_registration/dti00_t1_perceptOnly/IXI416-Guys-1051-T1.nii.gz',\n",
       " 'IXI-data/multimodal_registration/dti00_t1_perceptOnly/IXI418-Guys-0956-T1.nii.gz',\n",
       " 'IXI-data/multimodal_registration/dti00_t1_perceptOnly/IXI436-HH-2153-T1.nii.gz',\n",
       " 'IXI-data/multimodal_registration/dti00_t1_perceptOnly/IXI441-HH-2154-T1.nii.gz',\n",
       " 'IXI-data/multimodal_registration/dti00_t1_perceptOnly/IXI448-HH-2393-T1.nii.gz',\n",
       " 'IXI-data/multimodal_registration/dti00_t1_perceptOnly/IXI451-HH-2212-T1.nii.gz',\n",
       " 'IXI-data/multimodal_registration/dti00_t1_perceptOnly/IXI458-Guys-0993-T1.nii.gz',\n",
       " 'IXI-data/multimodal_registration/dti00_t1_perceptOnly/IXI460-Guys-0999-T1.nii.gz',\n",
       " 'IXI-data/multimodal_registration/dti00_t1_perceptOnly/IXI465-HH-2176-T1.nii.gz',\n",
       " 'IXI-data/multimodal_registration/dti00_t1_perceptOnly/IXI482-HH-2178-T1.nii.gz',\n",
       " 'IXI-data/multimodal_registration/dti00_t1_perceptOnly/IXI488-Guys-1015-T1.nii.gz',\n",
       " 'IXI-data/multimodal_registration/dti00_t1_perceptOnly/IXI490-Guys-1018-T1.nii.gz',\n",
       " 'IXI-data/multimodal_registration/dti00_t1_perceptOnly/IXI492-Guys-1022-T1.nii.gz',\n",
       " 'IXI-data/multimodal_registration/dti00_t1_perceptOnly/IXI493-Guys-1007-T1.nii.gz',\n",
       " 'IXI-data/multimodal_registration/dti00_t1_perceptOnly/IXI495-Guys-1009-T1.nii.gz',\n",
       " 'IXI-data/multimodal_registration/dti00_t1_perceptOnly/IXI502-Guys-1020-T1.nii.gz',\n",
       " 'IXI-data/multimodal_registration/dti00_t1_perceptOnly/IXI515-HH-2377-T1.nii.gz',\n",
       " 'IXI-data/multimodal_registration/dti00_t1_perceptOnly/IXI518-HH-2239-T1.nii.gz',\n",
       " 'IXI-data/multimodal_registration/dti00_t1_perceptOnly/IXI522-HH-2453-T1.nii.gz',\n",
       " 'IXI-data/multimodal_registration/dti00_t1_perceptOnly/IXI527-HH-2376-T1.nii.gz',\n",
       " 'IXI-data/multimodal_registration/dti00_t1_perceptOnly/IXI528-Guys-1073-T1.nii.gz',\n",
       " 'IXI-data/multimodal_registration/dti00_t1_perceptOnly/IXI539-Guys-1067-T1.nii.gz',\n",
       " 'IXI-data/multimodal_registration/dti00_t1_perceptOnly/IXI546-HH-2450-T1.nii.gz',\n",
       " 'IXI-data/multimodal_registration/dti00_t1_perceptOnly/IXI551-Guys-1065-T1.nii.gz',\n",
       " 'IXI-data/multimodal_registration/dti00_t1_perceptOnly/IXI556-HH-2452-T1.nii.gz',\n",
       " 'IXI-data/multimodal_registration/dti00_t1_perceptOnly/IXI559-HH-2394-T1.nii.gz',\n",
       " 'IXI-data/multimodal_registration/dti00_t1_perceptOnly/IXI565-HH-2534-T1.nii.gz',\n",
       " 'IXI-data/multimodal_registration/dti00_t1_perceptOnly/IXI569-Guys-1101-T1.nii.gz',\n",
       " 'IXI-data/multimodal_registration/dti00_t1_perceptOnly/IXI582-Guys-1127-T1.nii.gz',\n",
       " 'IXI-data/multimodal_registration/dti00_t1_perceptOnly/IXI592-Guys-1085-T1.nii.gz',\n",
       " 'IXI-data/multimodal_registration/dti00_t1_perceptOnly/IXI598-HH-2606-T1.nii.gz',\n",
       " 'IXI-data/multimodal_registration/dti00_t1_perceptOnly/IXI613-HH-2734-T1.nii.gz',\n",
       " 'IXI-data/multimodal_registration/dti00_t1_perceptOnly/IXI617-Guys-1090-T1.nii.gz',\n",
       " 'IXI-data/multimodal_registration/dti00_t1_perceptOnly/IXI623-Guys-1076-T1.nii.gz',\n",
       " 'IXI-data/multimodal_registration/dti00_t1_perceptOnly/IXI632-HH-2652-T1.nii.gz',\n",
       " 'IXI-data/multimodal_registration/dti00_t1_perceptOnly/IXI633-HH-2689-T1.nii.gz',\n",
       " 'IXI-data/multimodal_registration/dti00_t1_perceptOnly/IXI634-HH-2690-T1.nii.gz',\n",
       " 'IXI-data/multimodal_registration/dti00_t1_perceptOnly/IXI636-HH-2733-T1.nii.gz',\n",
       " 'IXI-data/multimodal_registration/dti00_t1_perceptOnly/IXI642-Guys-1104-T1.nii.gz',\n",
       " 'IXI-data/multimodal_registration/dti00_t1_perceptOnly/IXI644-Guys-1121-T1.nii.gz',\n",
       " 'IXI-data/multimodal_registration/dti00_t1_perceptOnly/IXI652-Guys-1116-T1.nii.gz']"
      ]
     },
     "execution_count": 52,
     "metadata": {},
     "output_type": "execute_result"
    }
   ],
   "source": [
    "T1_list"
   ]
  },
  {
   "cell_type": "code",
   "execution_count": 59,
   "metadata": {},
   "outputs": [],
   "source": [
    "reg_knot.clobber()"
   ]
  },
  {
   "cell_type": "code",
   "execution_count": 22,
   "metadata": {},
   "outputs": [],
   "source": [
    "j0 = reg_knot.jobs[0]"
   ]
  },
  {
   "cell_type": "code",
   "execution_count": 23,
   "metadata": {},
   "outputs": [
    {
     "data": {
      "text/plain": [
       "'us-west-2'"
      ]
     },
     "execution_count": 23,
     "metadata": {},
     "output_type": "execute_result"
    }
   ],
   "source": [
    "j0.region"
   ]
  },
  {
   "cell_type": "code",
   "execution_count": 26,
   "metadata": {},
   "outputs": [
    {
     "data": {
      "text/plain": [
       "'default'"
      ]
     },
     "execution_count": 26,
     "metadata": {},
     "output_type": "execute_result"
    }
   ],
   "source": [
    "j0.job_queue.profile"
   ]
  },
  {
   "cell_type": "code",
   "execution_count": 26,
   "metadata": {},
   "outputs": [
    {
     "name": "stderr",
     "output_type": "stream",
     "text": [
      "/Users/arokem/.virtualenvs/afq/lib/python3.6/site-packages/h5py/__init__.py:36: FutureWarning: Conversion of the second argument of issubdtype from `float` to `np.floating` is deprecated. In future, it will be treated as `np.float64 == np.dtype(float).type`.\n",
      "  from ._conv import register_converters as _register_converters\n"
     ]
    }
   ],
   "source": [
    "import nibabel as nib"
   ]
  },
  {
   "cell_type": "code",
   "execution_count": 31,
   "metadata": {},
   "outputs": [],
   "source": [
    "source = nib.load('source.nii.gz').get_data()\n",
    "pred = nib.load('pred.nii.gz').get_data()\n",
    "target = nib.load('target.nii.gz').get_data()"
   ]
  },
  {
   "cell_type": "code",
   "execution_count": 32,
   "metadata": {},
   "outputs": [],
   "source": [
    "import matplotlib.pyplot as plt\n",
    "%matplotlib inline"
   ]
  },
  {
   "cell_type": "code",
   "execution_count": 44,
   "metadata": {},
   "outputs": [
    {
     "data": {
      "text/plain": [
       "<matplotlib.image.AxesImage at 0x11b2c4588>"
      ]
     },
     "execution_count": 44,
     "metadata": {},
     "output_type": "execute_result"
    },
    {
     "data": {
      "image/png": "[encoded data removed]",
      "text/plain": [
       "<Figure size 288x288 with 1 Axes>"
      ]
     },
     "metadata": {},
     "output_type": "display_data"
    }
   ],
   "source": [
    "plt.matshow(source[:, :, target.shape[2]//2])"
   ]
  },
  {
   "cell_type": "code",
   "execution_count": 45,
   "metadata": {},
   "outputs": [
    {
     "data": {
      "text/plain": [
       "<matplotlib.image.AxesImage at 0x11b49a780>"
      ]
     },
     "execution_count": 45,
     "metadata": {},
     "output_type": "execute_result"
    },
    {
     "data": {
      "image/png": "[encoded data removed]",
      "text/plain": [
       "<Figure size 288x288 with 1 Axes>"
      ]
     },
     "metadata": {},
     "output_type": "display_data"
    }
   ],
   "source": [
    "plt.matshow(pred[:, :, target.shape[2]//2])"
   ]
  },
  {
   "cell_type": "code",
   "execution_count": 46,
   "metadata": {},
   "outputs": [
    {
     "data": {
      "text/plain": [
       "<matplotlib.image.AxesImage at 0x11b3809b0>"
      ]
     },
     "execution_count": 46,
     "metadata": {},
     "output_type": "execute_result"
    },
    {
     "data": {
      "image/png": "[encoded data removed]",
      "text/plain": [
       "<Figure size 288x288 with 1 Axes>"
      ]
     },
     "metadata": {},
     "output_type": "display_data"
    }
   ],
   "source": [
    "plt.matshow(target[:, :, target.shape[2]//2])"
   ]
  },
  {
   "cell_type": "code",
   "execution_count": null,
   "metadata": {},
   "outputs": [],
   "source": []
  }
 ],
 "metadata": {
  "kernelspec": {
   "display_name": "Python 3",
   "language": "python",
   "name": "python3"
  },
  "language_info": {
   "codemirror_mode": {
    "name": "ipython",
    "version": 3
   },
   "file_extension": ".py",
   "mimetype": "text/x-python",
   "name": "python",
   "nbconvert_exporter": "python",
   "pygments_lexer": "ipython3",
   "version": "3.6.4"
  }
 },
 "nbformat": 4,
 "nbformat_minor": 2
}
