{
 "cells": [
  {
   "cell_type": "code",
   "execution_count": 2,
   "metadata": {},
   "outputs": [],
   "source": [
    "import matplotlib.pyplot as plt\n",
    "%matplotlib inline"
   ]
  },
  {
   "cell_type": "code",
   "execution_count": 3,
   "metadata": {},
   "outputs": [],
   "source": [
    "import numpy as np"
   ]
  },
  {
   "cell_type": "code",
   "execution_count": 4,
   "metadata": {},
   "outputs": [],
   "source": [
    "import cloudknot as ck"
   ]
  },
  {
   "cell_type": "code",
   "execution_count": 5,
   "metadata": {},
   "outputs": [],
   "source": [
    "ck.set_region('us-west-2')"
   ]
  },
  {
   "cell_type": "code",
   "execution_count": 6,
   "metadata": {},
   "outputs": [],
   "source": [
    "s3_access_pars = ck.Pars(name='s3_access',\n",
    "                         policies=('AmazonS3FullAccess',),\n",
    "                         use_default_vpc=False)"
   ]
  },
  {
   "cell_type": "code",
   "execution_count": 7,
   "metadata": {},
   "outputs": [],
   "source": [
    "import boto3"
   ]
  },
  {
   "cell_type": "code",
   "execution_count": 8,
   "metadata": {},
   "outputs": [],
   "source": [
    "\n",
    "client = boto3.resource('s3')\n",
    "bucket_name = 'arokem.mri2mri'\n",
    "b = client.Bucket(bucket_name)\n"
   ]
  },
  {
   "cell_type": "code",
   "execution_count": 9,
   "metadata": {},
   "outputs": [],
   "source": [
    "T1_list = [ll.key for ll in list(b.objects.all())[1:] if (ll.key.startswith(\"IXI-data/multimodal_registration/\") and ll.key.endswith('T1.nii.gz') and \"myunet\" in ll.key)]"
   ]
  },
  {
   "cell_type": "code",
   "execution_count": 10,
   "metadata": {},
   "outputs": [],
   "source": [
    "t1_path = T1_list[0]"
   ]
  },
  {
   "cell_type": "code",
   "execution_count": 11,
   "metadata": {},
   "outputs": [],
   "source": [
    "def compare_registrations(t1_path):\n",
    "    import os.path as op\n",
    "\n",
    "    import boto3\n",
    "    import numpy as np\n",
    "    from AFQ import registration as reg\n",
    "    import nibabel as nib\n",
    "    from dipy.core.geometry import decompose_matrix\n",
    "    \n",
    "    client = boto3.resource('s3')\n",
    "    bucket_name = 'arokem.mri2mri'\n",
    "    b = client.Bucket(bucket_name)\n",
    "\n",
    "    data_path = op.split(t1_path)[0]    \n",
    "    source_string = 'DTI-00_transformed.nii.gz'\n",
    "    \n",
    "    print(\"Downloading %s as target\"%t1_path)\n",
    "    b.download_file(t1_path, 'target.nii.gz')\n",
    "    img_target = nib.load('target.nii.gz')\n",
    "    source_path = op.join(data_path, op.split(t1_path)[1].split('T1')[0] + source_string)\n",
    "    print(\"Downloading %s as source\"%source_path)\n",
    "    b.download_file(source_path, 'source.nii.gz')\n",
    "    img_source = nib.load('source.nii.gz')\n",
    "    pred_path = op.join(data_path,  op.split(t1_path)[1].split('T1')[0]+ 'T1_transformed_predict.nii.gz')\n",
    "    print(\"Downloading %s as prediction\"%pred_path)\n",
    "    b.download_file(pred_path, 'pred.nii.gz')\n",
    "    img_pred = nib.load('pred.nii.gz')\n",
    "\n",
    "    data_source = img_source.get_data()\n",
    "    data_target = img_target.get_data()\n",
    "    data_pred = img_pred.get_data()\n",
    "    print(\"Registering source to target\")\n",
    "    transformed_source, reg_affine_source = reg.affine_registration(moving=data_source, \n",
    "                                                                static=data_target, \n",
    "                                                                moving_affine=np.eye(4),\n",
    "                                                                static_affine=np.eye(4),\n",
    "                                                                level_iters=[10000, 1000, 100])    \n",
    "\n",
    "    print(\"Registering prediction to target\")\n",
    "    transformed_pred, reg_affine_pred = reg.affine_registration(moving=data_pred, \n",
    "                                                                static=data_target, \n",
    "                                                                moving_affine=np.eye(4),\n",
    "                                                                static_affine=np.eye(4),\n",
    "                                                                level_iters=[10000, 1000, 100])    \n",
    "\n",
    "    \n",
    "    print(\"Calculating registration errors\")\n",
    "    true_transform = np.dot(np.linalg.inv(img_target.affine), img_source.affine)\n",
    "\n",
    "    scale_true, shear_true, angles_true, translate_true, perspective_true = decompose_matrix(true_transform)\n",
    "    scale_pred, shear_pred, angles_pred, translate_pred, perspective_pred = decompose_matrix(np.linalg.inv(reg_affine_pred))\n",
    "    scale_source, shear_source, angles_source, translate_source, perspective_source = decompose_matrix(np.linalg.inv(reg_affine_source))\n",
    "    \n",
    "    translate_true - translate_source \n",
    "    this_RMS_trans_source = np.mean((np.array(translate_true)- \n",
    "                                     np.array(translate_source)) ** 2)\n",
    "    this_RMS_trans_pred = np.mean((np.array(translate_true) - \n",
    "                                   np.array(translate_pred)) ** 2)\n",
    "    this_RMS_rot_source = np.mean((np.array(angles_true) - \n",
    "                                   np.array(angles_source)) ** 2)\n",
    "    this_RMS_rot_pred = np.mean((np.array(angles_true) - \n",
    "                                 np.array(angles_pred)) ** 2)\n",
    "\n",
    "    \n",
    "    results_file = open('results_%s.txt'%op.split(t1_path)[-1], 'w')\n",
    "    print(\"Writing results to %s\"%results_file)\n",
    "    results_file.write('%2.8f\\t %2.8f\\t %2.8f\\t %2.8f\\t' % (this_RMS_trans_pred, \n",
    "                                                            this_RMS_rot_pred,\n",
    "                                                            this_RMS_trans_source,\n",
    "                                                            this_RMS_rot_source))\n",
    "    results_file.close()\n",
    "    upload_file = op.join(data_path, results_file.name)\n",
    "    print(\"Uploading results to %s\" % upload_file)\n",
    "    b.upload_file(results_file.name, upload_file)"
   ]
  },
  {
   "cell_type": "code",
   "execution_count": 12,
   "metadata": {},
   "outputs": [],
   "source": [
    "#compare_registrations(T1_list[0])"
   ]
  },
  {
   "cell_type": "code",
   "execution_count": 13,
   "metadata": {},
   "outputs": [],
   "source": [
    "image = ck.DockerImage(func=compare_registrations, github_installs=\"https://github.com/yeatmanlab/pyAFQ.git\")"
   ]
  },
  {
   "cell_type": "code",
   "execution_count": 14,
   "metadata": {},
   "outputs": [
    {
     "data": {
      "text/plain": [
       "'/Users/arokem/projects/mri2mri/cloudknot_docker_compare_registrations_9_sai54g/Dockerfile'"
      ]
     },
     "execution_count": 14,
     "metadata": {},
     "output_type": "execute_result"
    }
   ],
   "source": [
    "image.docker_path"
   ]
  },
  {
   "cell_type": "code",
   "execution_count": 15,
   "metadata": {},
   "outputs": [],
   "source": [
    "image.build(tags='0.6')"
   ]
  },
  {
   "cell_type": "code",
   "execution_count": 16,
   "metadata": {},
   "outputs": [
    {
     "data": {
      "text/plain": [
       "[{'name': 'cloudknot/compare_registrations', 'tag': '0.6'}]"
      ]
     },
     "execution_count": 16,
     "metadata": {},
     "output_type": "execute_result"
    }
   ],
   "source": [
    "image.images"
   ]
  },
  {
   "cell_type": "code",
   "execution_count": 17,
   "metadata": {},
   "outputs": [],
   "source": [
    "reg_knot = ck.Knot(name='compare_registrations',\n",
    "                   docker_image=image,\n",
    "                   pars=s3_access_pars, \n",
    "                   resource_type=\"SPOT\", \n",
    "                   bid_percentage=100)"
   ]
  },
  {
   "cell_type": "code",
   "execution_count": 18,
   "metadata": {},
   "outputs": [],
   "source": [
    "#reg_knot.clobber()"
   ]
  },
  {
   "cell_type": "code",
   "execution_count": 19,
   "metadata": {},
   "outputs": [],
   "source": [
    "result = reg_knot.map(T1_list)"
   ]
  },
  {
   "cell_type": "code",
   "execution_count": 20,
   "metadata": {
    "scrolled": false
   },
   "outputs": [],
   "source": [
    "j0 = reg_knot.jobs[0]"
   ]
  },
  {
   "cell_type": "code",
   "execution_count": 42,
   "metadata": {},
   "outputs": [
    {
     "data": {
      "text/plain": [
       "{'status': 'SUCCEEDED',\n",
       " 'statusReason': None,\n",
       " 'attempts': [],\n",
       " 'arrayProperties': {'statusSummary': {'STARTING': 0,\n",
       "   'FAILED': 0,\n",
       "   'RUNNING': 0,\n",
       "   'SUCCEEDED': 395,\n",
       "   'RUNNABLE': 0,\n",
       "   'SUBMITTED': 0,\n",
       "   'PENDING': 0},\n",
       "  'size': 395}}"
      ]
     },
     "execution_count": 42,
     "metadata": {},
     "output_type": "execute_result"
    }
   ],
   "source": [
    "j0.status"
   ]
  },
  {
   "cell_type": "code",
   "execution_count": 43,
   "metadata": {},
   "outputs": [],
   "source": [
    "reg_knot.clobber()"
   ]
  },
  {
   "cell_type": "code",
   "execution_count": null,
   "metadata": {},
   "outputs": [],
   "source": []
  }
 ],
 "metadata": {
  "kernelspec": {
   "display_name": "Python 3",
   "language": "python",
   "name": "python3"
  },
  "language_info": {
   "codemirror_mode": {
    "name": "ipython",
    "version": 3
   },
   "file_extension": ".py",
   "mimetype": "text/x-python",
   "name": "python",
   "nbconvert_exporter": "python",
   "pygments_lexer": "ipython3",
   "version": "3.6.4"
  }
 },
 "nbformat": 4,
 "nbformat_minor": 2
}
