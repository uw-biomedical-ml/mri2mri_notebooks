{
 "cells": [
  {
   "cell_type": "code",
   "execution_count": 1,
   "metadata": {},
   "outputs": [],
   "source": [
    "import cloudknot as ck"
   ]
  },
  {
   "cell_type": "code",
   "execution_count": 10,
   "metadata": {},
   "outputs": [],
   "source": [
    "import os"
   ]
  },
  {
   "cell_type": "code",
   "execution_count": null,
   "metadata": {},
   "outputs": [],
   "source": []
  },
  {
   "cell_type": "code",
   "execution_count": 9,
   "metadata": {},
   "outputs": [],
   "source": [
    "def comparison(subject):\n",
    "    import os.path as op\n",
    "\n",
    "    import boto3\n",
    "    import numpy as np\n",
    "    from AFQ import registration as reg\n",
    "    import nibabel as nib\n",
    "    from subprocess import call\n",
    "\n",
    "    \n",
    "    client = boto3.resource('s3')\n",
    "    bucket_name = 'arokem.mri2mri'\n",
    "    b = client.Bucket(bucket_name)\n",
    "    ll = list(b.objects.all())\n",
    "    real_a_files = []\n",
    "    real_b_files = []\n",
    "    fake_b_files = []\n",
    "\n",
    "    for f in ll: \n",
    "        k = f.key.split('/')[-1]\n",
    "        if k.startswith(subject):\n",
    "            b.download_file(f.key, k)\n",
    "            if k.endswith('real_A.npy'):\n",
    "                real_a_files.append(k)\n",
    "            elif k.endswith('real_B.npy'):\n",
    "                real_b_files.append(k)\n",
    "            elif k.endswith('fake_B.npy'):\n",
    "                fake_b_files.append(k)\n",
    "        if f.key.endswith(\"IITmean_V1.nii.gz\"):\n",
    "            b.download_file(f.key, \"IITmean_V1.nii.gz\")\n",
    "        if f.key.endswith(\"IITmean_t1.nii.gz\"):\n",
    "            b.download_file(f.key, \"IITmean_t1.nii.gz\")\n",
    "        if k.startswith(subject) and k.endswith(\"T1.nii.gz\"):\n",
    "            b.download_file(f.key, \"T1.nii.gz\")\n",
    "        if k.startswith(subject) and k.endswith(\"DTI-00.nii.gz\"):\n",
    "            b.download_file(f.key, \"DTI-00.nii.gz\")\n",
    "            \n",
    "\n",
    "    real_a_files.sort()\n",
    "    real_b_files.sort()\n",
    "    fake_b_files.sort()\n",
    "    real_a = np.zeros((len(real_a_files), 128, 128, 3))\n",
    "    real_b = np.zeros((len(real_a_files), 128, 128, 3))\n",
    "    fake_b = np.zeros((len(real_a_files), 128, 128, 3))\n",
    "    for ii in range(len(real_a_files)):\n",
    "        real_a[ii]= np.load(real_a_files[ii]) \n",
    "        real_b[ii]= np.load(real_b_files[ii]) \n",
    "        fake_b[ii]= np.load(fake_b_files[ii])\n",
    "    \n",
    "    meanV1_img = nib.load('IITmean_V1.nii.gz')\n",
    "    meant1_img = nib.load('IITmean_t1.nii.gz')\n",
    "\n",
    "    meanV1 = meanV1_img.get_data()\n",
    "    meant1 = meant1_img.get_data()\n",
    "    ants_call = [\"antsBrainExtraction.sh\", \n",
    "                 \"-d\", \"3\", \"-a\", \"T1.nii.gz\",\n",
    "                 \"-e\" \"T_template3.nii.gz\", \n",
    "                 \"-m\", \"T_template_BrainCerebellumProbabilityMask.nii.gz\",\n",
    "                 \"-o\", \"T1_\"]\n",
    "    \n",
    "    call(ants_call)            \n",
    "    ants_brain_img = nib.load('T1_BrainExtractionBrain.nii.gz')\n",
    "    ants_brain = ants_brain_img.get_data()\n",
    "    transformed, affine = reg.affine_registration(meant1, ants_brain, meant1_img.affine, ants_brain_img.affine)   \n",
    "    warped_meant1, mapping = reg.syn_registration(meant1, ants_brain, moving_affine=meant1_img.affine, static_affine=ants_brain_img.affine, prealign=affine)\n",
    "    nib.save(nib.Nifti1Image(warped_meant1, ants_brain_img.affine), 'meant1_warped_to_ants_brain.nii.gz')\n",
    "    mapped = np.concatenate([mapping.transform(meanV1[..., 0])[..., np.newaxis], \n",
    "                             mapping.transform(meanV1[..., 1])[..., np.newaxis], \n",
    "                             mapping.transform(meanV1[..., 2])[..., np.newaxis]], -1) \n",
    "    DWI_img = nib.load('DTI-00.nii.gz')\n",
    "    DWI_affine = DWI_img.affine\n",
    "    resamp = np.concatenate([reg.resample(mapped[..., 0], DWI_img.get_data(), ants_brain_img.affine, DWI_affine)[..., np.newaxis], \n",
    "                             reg.resample(mapped[..., 1], DWI_img.get_data(), ants_brain_img.affine, DWI_affine)[..., np.newaxis], \n",
    "                             reg.resample(mapped[..., 2], DWI_img.get_data(), ants_brain_img.affine, DWI_affine)[..., np.newaxis]], -1)[:,:,1:-1]\n",
    "                         \n",
    "    resamp = np.moveaxis(resamp, 2, 0)\n",
    "    mask = (np.abs(real_b).sum(-1)) > 0 \n",
    "    angle_fake = np.rad2deg(np.arccos(np.clip((real_b[mask] * fake_b[mask]).sum(axis=-1), -1, 1)))\n",
    "    angle_fake = np.min(np.array([angle_fake, 180-angle_fake]), 0)\n",
    "    angle_template = np.rad2deg(np.arccos(np.clip((real_b[mask] * resamp[mask]).sum(axis=-1), -1, 1)))\n",
    "    angle_template = np.min(np.array([angle_template, 180-angle_template]), 0)\n",
    "    \n",
    "    "
   ]
  },
  {
   "cell_type": "code",
   "execution_count": 2,
   "metadata": {},
   "outputs": [],
   "source": [
    "import boto3"
   ]
  },
  {
   "cell_type": "code",
   "execution_count": 3,
   "metadata": {},
   "outputs": [],
   "source": [
    "client = boto3.resource('s3')\n",
    "bucket_name = 'arokem.mri2mri'\n",
    "b = client.Bucket(bucket_name)"
   ]
  },
  {
   "cell_type": "code",
   "execution_count": 4,
   "metadata": {},
   "outputs": [],
   "source": [
    "ll = list(b.objects.all())"
   ]
  },
  {
   "cell_type": "code",
   "execution_count": 5,
   "metadata": {},
   "outputs": [],
   "source": [
    "subject = \"IXI029\""
   ]
  },
  {
   "cell_type": "code",
   "execution_count": 6,
   "metadata": {},
   "outputs": [],
   "source": [
    "real_a_files = []\n",
    "real_b_files = []\n",
    "fake_b_files = []\n",
    "\n",
    "for f in ll: \n",
    "    k = f.key\n",
    "    if k.split('/')[1].startswith(subject):\n",
    "        if k.endswith('real_A.npy'):\n",
    "            real_a_files.append(k)\n",
    "        elif k.endswith('real_B.npy'):\n",
    "            real_b_files.append(k)\n",
    "        elif k.endswith('fake_B.npy'):\n",
    "            fake_b_files.append(k)\n"
   ]
  },
  {
   "cell_type": "code",
   "execution_count": 7,
   "metadata": {},
   "outputs": [],
   "source": [
    "real_a_files.sort()"
   ]
  },
  {
   "cell_type": "code",
   "execution_count": 8,
   "metadata": {},
   "outputs": [
    {
     "data": {
      "text/plain": [
       "['t1_pdd_cosine_L1_unet128_T3_3d/IXI029-Guys_0001_real_A.npy',\n",
       " 't1_pdd_cosine_L1_unet128_T3_3d/IXI029-Guys_0002_real_A.npy',\n",
       " 't1_pdd_cosine_L1_unet128_T3_3d/IXI029-Guys_0004_real_A.npy',\n",
       " 't1_pdd_cosine_L1_unet128_T3_3d/IXI029-Guys_0005_real_A.npy',\n",
       " 't1_pdd_cosine_L1_unet128_T3_3d/IXI029-Guys_0007_real_A.npy',\n",
       " 't1_pdd_cosine_L1_unet128_T3_3d/IXI029-Guys_0008_real_A.npy',\n",
       " 't1_pdd_cosine_L1_unet128_T3_3d/IXI029-Guys_0009_real_A.npy',\n",
       " 't1_pdd_cosine_L1_unet128_T3_3d/IXI029-Guys_0010_real_A.npy',\n",
       " 't1_pdd_cosine_L1_unet128_T3_3d/IXI029-Guys_0011_real_A.npy',\n",
       " 't1_pdd_cosine_L1_unet128_T3_3d/IXI029-Guys_0013_real_A.npy',\n",
       " 't1_pdd_cosine_L1_unet128_T3_3d/IXI029-Guys_0014_real_A.npy',\n",
       " 't1_pdd_cosine_L1_unet128_T3_3d/IXI029-Guys_0015_real_A.npy',\n",
       " 't1_pdd_cosine_L1_unet128_T3_3d/IXI029-Guys_0016_real_A.npy',\n",
       " 't1_pdd_cosine_L1_unet128_T3_3d/IXI029-Guys_0018_real_A.npy',\n",
       " 't1_pdd_cosine_L1_unet128_T3_3d/IXI029-Guys_0019_real_A.npy',\n",
       " 't1_pdd_cosine_L1_unet128_T3_3d/IXI029-Guys_0021_real_A.npy',\n",
       " 't1_pdd_cosine_L1_unet128_T3_3d/IXI029-Guys_0022_real_A.npy',\n",
       " 't1_pdd_cosine_L1_unet128_T3_3d/IXI029-Guys_0023_real_A.npy',\n",
       " 't1_pdd_cosine_L1_unet128_T3_3d/IXI029-Guys_0024_real_A.npy',\n",
       " 't1_pdd_cosine_L1_unet128_T3_3d/IXI029-Guys_0026_real_A.npy',\n",
       " 't1_pdd_cosine_L1_unet128_T3_3d/IXI029-Guys_0027_real_A.npy',\n",
       " 't1_pdd_cosine_L1_unet128_T3_3d/IXI029-Guys_0029_real_A.npy',\n",
       " 't1_pdd_cosine_L1_unet128_T3_3d/IXI029-Guys_0030_real_A.npy',\n",
       " 't1_pdd_cosine_L1_unet128_T3_3d/IXI029-Guys_0032_real_A.npy',\n",
       " 't1_pdd_cosine_L1_unet128_T3_3d/IXI029-Guys_0033_real_A.npy',\n",
       " 't1_pdd_cosine_L1_unet128_T3_3d/IXI029-Guys_0035_real_A.npy',\n",
       " 't1_pdd_cosine_L1_unet128_T3_3d/IXI029-Guys_0036_real_A.npy',\n",
       " 't1_pdd_cosine_L1_unet128_T3_3d/IXI029-Guys_0037_real_A.npy',\n",
       " 't1_pdd_cosine_L1_unet128_T3_3d/IXI029-Guys_0038_real_A.npy',\n",
       " 't1_pdd_cosine_L1_unet128_T3_3d/IXI029-Guys_0040_real_A.npy',\n",
       " 't1_pdd_cosine_L1_unet128_T3_3d/IXI029-Guys_0041_real_A.npy',\n",
       " 't1_pdd_cosine_L1_unet128_T3_3d/IXI029-Guys_0043_real_A.npy',\n",
       " 't1_pdd_cosine_L1_unet128_T3_3d/IXI029-Guys_0044_real_A.npy',\n",
       " 't1_pdd_cosine_L1_unet128_T3_3d/IXI029-Guys_0045_real_A.npy',\n",
       " 't1_pdd_cosine_L1_unet128_T3_3d/IXI029-Guys_0046_real_A.npy',\n",
       " 't1_pdd_cosine_L1_unet128_T3_3d/IXI029-Guys_0049_real_A.npy',\n",
       " 't1_pdd_cosine_L1_unet128_T3_3d/IXI029-Guys_0050_real_A.npy',\n",
       " 't1_pdd_cosine_L1_unet128_T3_3d/IXI029-Guys_0051_real_A.npy',\n",
       " 't1_pdd_cosine_L1_unet128_T3_3d/IXI029-Guys_0052_real_A.npy',\n",
       " 't1_pdd_cosine_L1_unet128_T3_3d/IXI029-Guys_0054_real_A.npy']"
      ]
     },
     "execution_count": 8,
     "metadata": {},
     "output_type": "execute_result"
    }
   ],
   "source": [
    "real_a_files"
   ]
  },
  {
   "cell_type": "code",
   "execution_count": null,
   "metadata": {},
   "outputs": [],
   "source": []
  },
  {
   "cell_type": "code",
   "execution_count": null,
   "metadata": {},
   "outputs": [],
   "source": []
  }
 ],
 "metadata": {
  "kernelspec": {
   "display_name": "Python 3",
   "language": "python",
   "name": "python3"
  },
  "language_info": {
   "codemirror_mode": {
    "name": "ipython",
    "version": 3
   },
   "file_extension": ".py",
   "mimetype": "text/x-python",
   "name": "python",
   "nbconvert_exporter": "python",
   "pygments_lexer": "ipython3",
   "version": "3.7.0"
  }
 },
 "nbformat": 4,
 "nbformat_minor": 2
}
