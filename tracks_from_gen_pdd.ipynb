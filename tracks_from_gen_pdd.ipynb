{
 "cells": [
  {
   "cell_type": "code",
   "execution_count": 1,
   "metadata": {},
   "outputs": [],
   "source": [
    "import os.path as op"
   ]
  },
  {
   "cell_type": "code",
   "execution_count": 2,
   "metadata": {},
   "outputs": [],
   "source": [
    "import numpy as np\n",
    "import matplotlib.pyplot as plt\n",
    "%matplotlib inline"
   ]
  },
  {
   "cell_type": "code",
   "execution_count": 3,
   "metadata": {},
   "outputs": [],
   "source": [
    "from glob import glob\n",
    "import nibabel as nib"
   ]
  },
  {
   "cell_type": "code",
   "execution_count": 4,
   "metadata": {},
   "outputs": [],
   "source": [
    "path = '/Users/arokem/data/mri2mri/t123_pdd_cosine_L1_unet128_T3_3d/'"
   ]
  },
  {
   "cell_type": "code",
   "execution_count": 5,
   "metadata": {},
   "outputs": [],
   "source": [
    "real_a_files = glob(op.join(path, 'IXI029*real_A*'))\n",
    "real_b_files = glob(op.join(path, 'IXI029*real_B*'))\n",
    "fake_b_files = glob(op.join(path, 'IXI029*fake_B*'))"
   ]
  },
  {
   "cell_type": "code",
   "execution_count": 6,
   "metadata": {},
   "outputs": [],
   "source": [
    "real_a_files.sort()\n",
    "real_b_files.sort()\n",
    "fake_b_files.sort()"
   ]
  },
  {
   "cell_type": "code",
   "execution_count": 7,
   "metadata": {},
   "outputs": [],
   "source": [
    "real_a = np.zeros((len(real_a_files), 128, 128, 3))\n",
    "real_b = np.zeros((len(real_a_files), 128, 128, 3))\n",
    "fake_b = np.zeros((len(real_a_files), 128, 128, 3))\n",
    "for ii in range(len(real_a_files)):\n",
    "    real_a[ii]= np.load(real_a_files[ii]) \n",
    "    real_b[ii]= np.load(real_b_files[ii]) \n",
    "    fake_b[ii]= np.load(fake_b_files[ii])"
   ]
  },
  {
   "cell_type": "code",
   "execution_count": 8,
   "metadata": {},
   "outputs": [
    {
     "name": "stderr",
     "output_type": "stream",
     "text": [
      "Clipping input data to the valid range for imshow with RGB data ([0..1] for floats or [0..255] for integers).\n"
     ]
    },
    {
     "data": {
      "text/plain": [
       "<matplotlib.image.AxesImage at 0x1164d2b70>"
      ]
     },
     "execution_count": 8,
     "metadata": {},
     "output_type": "execute_result"
    },
    {
     "data": {
      "image/png": "[encoded data removed]",
      "text/plain": [
       "<Figure size 432x288 with 1 Axes>"
      ]
     },
     "metadata": {},
     "output_type": "display_data"
    }
   ],
   "source": [
    "plt.imshow(fake_b[27])"
   ]
  },
  {
   "cell_type": "code",
   "execution_count": 9,
   "metadata": {},
   "outputs": [],
   "source": [
    "from dipy.reconst import dti\n",
    "from dipy.tracking.eudx import EuDX\n",
    "from dipy.data import get_sphere"
   ]
  },
  {
   "cell_type": "code",
   "execution_count": 10,
   "metadata": {},
   "outputs": [],
   "source": [
    "odf_vertices = get_sphere('symmetric362').vertices"
   ]
  },
  {
   "cell_type": "code",
   "execution_count": 11,
   "metadata": {},
   "outputs": [],
   "source": [
    "def pdd_to_ind(pdd, odf_vertices):\n",
    "    tup = pdd.shape[:-1]\n",
    "    mec = pdd.reshape(np.prod(np.array(tup)), 3)\n",
    "    ind = np.array([np.argmin(np.dot(odf_vertices, m)) for m in mec])\n",
    "    ind = ind.reshape(tup)\n",
    "    ind = np.moveaxis(ind, 0, -1)\n",
    "    return ind"
   ]
  },
  {
   "cell_type": "code",
   "execution_count": 12,
   "metadata": {},
   "outputs": [],
   "source": [
    "real_ind = pdd_to_ind(real_b, odf_vertices)\n",
    "fake_ind = pdd_to_ind(fake_b, odf_vertices)"
   ]
  },
  {
   "cell_type": "code",
   "execution_count": 13,
   "metadata": {},
   "outputs": [],
   "source": [
    "data = np.array([nib.load('/Users/arokem/data/mri2mri/IXI029-Guys-0829-DTI-%02d.nii.gz'%ii).get_data() for ii in range(16)])"
   ]
  },
  {
   "cell_type": "code",
   "execution_count": 14,
   "metadata": {},
   "outputs": [],
   "source": [
    "data = np.moveaxis(data, 0, -1)"
   ]
  },
  {
   "cell_type": "code",
   "execution_count": 15,
   "metadata": {},
   "outputs": [],
   "source": [
    "data = data[:, :, 1:-1]"
   ]
  },
  {
   "cell_type": "code",
   "execution_count": 16,
   "metadata": {},
   "outputs": [
    {
     "data": {
      "text/plain": [
       "(128, 128, 54, 16)"
      ]
     },
     "execution_count": 16,
     "metadata": {},
     "output_type": "execute_result"
    }
   ],
   "source": [
    "data.shape"
   ]
  },
  {
   "cell_type": "code",
   "execution_count": 17,
   "metadata": {},
   "outputs": [],
   "source": [
    "import dipy.core.gradients as dpg"
   ]
  },
  {
   "cell_type": "code",
   "execution_count": 18,
   "metadata": {},
   "outputs": [],
   "source": [
    "gtab = dpg.gradient_table('/Users/arokem/data/mri2mri/bvals.txt', '/Users/arokem/data/mri2mri/bvecs.txt')"
   ]
  },
  {
   "cell_type": "code",
   "execution_count": 19,
   "metadata": {},
   "outputs": [],
   "source": [
    "from dipy.segment.mask import median_otsu\n",
    "b0_mask, mask = median_otsu(data, 2, 1)"
   ]
  },
  {
   "cell_type": "code",
   "execution_count": 20,
   "metadata": {},
   "outputs": [],
   "source": [
    "model = dti.TensorModel(gtab)"
   ]
  },
  {
   "cell_type": "code",
   "execution_count": 21,
   "metadata": {},
   "outputs": [],
   "source": [
    "fit = model.fit(data, mask=mask)"
   ]
  },
  {
   "cell_type": "code",
   "execution_count": 22,
   "metadata": {},
   "outputs": [],
   "source": [
    "FA = fit.fa"
   ]
  },
  {
   "cell_type": "code",
   "execution_count": 29,
   "metadata": {},
   "outputs": [],
   "source": [
    "eu_fake = EuDX(a=FA, ind=fake_ind, seeds=100000, odf_vertices=odf_vertices, a_low=0.1)\n",
    "streamlines_fake = [e for e in eu_fake if e.shape[0]>20]"
   ]
  },
  {
   "cell_type": "code",
   "execution_count": 30,
   "metadata": {},
   "outputs": [],
   "source": [
    "eu_real = EuDX(a=FA, ind=real_ind, seeds=100000, odf_vertices=odf_vertices, a_low=0.1)\n",
    "streamlines_real = [e for e in eu_real if e.shape[0]>20]"
   ]
  },
  {
   "cell_type": "code",
   "execution_count": 25,
   "metadata": {},
   "outputs": [],
   "source": [
    "# for streamlines, out_path in zip([streamlines_fake, streamlines_real], [\"fake\", \"real\"]):\n",
    "#     from dipy.viz import window, actor\n",
    "#     from dipy.viz.colormap import line_colors\n",
    "\n",
    "#     r = window.Renderer()\n",
    "#     streamlines_actor = actor.line(streamlines)\n",
    "\n",
    "#     r.add(streamlines_actor)\n",
    "#     window.record(r, out_path=out_path, path_numbering=True, n_frames=36, size=(800, 800))"
   ]
  },
  {
   "cell_type": "code",
   "execution_count": 31,
   "metadata": {},
   "outputs": [],
   "source": [
    "from dipy.align.streamlinear import StreamlineLinearRegistration\n",
    "from dipy.tracking.streamline import set_number_of_points\n"
   ]
  },
  {
   "cell_type": "code",
   "execution_count": 32,
   "metadata": {},
   "outputs": [],
   "source": [
    "real_resampled = set_number_of_points(streamlines_real, 20)\n",
    "fake_resampled = set_number_of_points(streamlines_fake, 20)"
   ]
  },
  {
   "cell_type": "code",
   "execution_count": null,
   "metadata": {},
   "outputs": [],
   "source": [
    "srr = StreamlineLinearRegistration()\n",
    "srm = srr.optimize(static=real_resampled, moving=fake_resampled)"
   ]
  },
  {
   "cell_type": "code",
   "execution_count": null,
   "metadata": {},
   "outputs": [],
   "source": []
  }
 ],
 "metadata": {
  "kernelspec": {
   "display_name": "Python 3",
   "language": "python",
   "name": "python3"
  },
  "language_info": {
   "codemirror_mode": {
    "name": "ipython",
    "version": 3
   },
   "file_extension": ".py",
   "mimetype": "text/x-python",
   "name": "python",
   "nbconvert_exporter": "python",
   "pygments_lexer": "ipython3",
   "version": "3.6.4"
  }
 },
 "nbformat": 4,
 "nbformat_minor": 2
}
