{
 "cells": [
  {
   "cell_type": "code",
   "execution_count": 1,
   "metadata": {},
   "outputs": [],
   "source": [
    "import cloudknot as ck"
   ]
  },
  {
   "cell_type": "code",
   "execution_count": 2,
   "metadata": {},
   "outputs": [],
   "source": [
    "def fs_segment(subject):\n",
    "    import os\n",
    "    import os.path as op\n",
    "    import boto3\n",
    "    import numpy as np\n",
    "    import nibabel as nib\n",
    "    import nipype \n",
    "    from subprocess import call\n",
    "    resource = boto3.resource('s3')\n",
    "    bucket_name = 'arokem.mri2mri'\n",
    "    b = resource.Bucket(bucket_name)\n",
    "    ll = list(b.objects.all())\n",
    "    client = boto3.client('s3')\n",
    "    \n",
    "    print(\"Downloading T1 and DTI data\")\n",
    "    for l in ll:\n",
    "        k = l.key\n",
    "        if k.startswith(\"IXI-T1\" ) and k.split('/')[-1].startswith(subject):\n",
    "            print(\"Downloading T1\")\n",
    "            b.download_file(k, \"/home/cloudknot-user/T1.nii.gz\")\n",
    "\n",
    "    FREESURFER_HOME = \"/opt/freesurfer-6.0.0/\"\n",
    "    SUBJECTS_DIR = \"/home/cloudknot-user/subjects/\"\n",
    "    os.mkdir(SUBJECTS_DIR)\n",
    "\n",
    "    os.environ['SUBJECTS_DIR'] = SUBJECTS_DIR\n",
    "    os.environ['FREESURFER_HOME'] = FREESURFER_HOME\n",
    "    os.environ['MNI_DIR'] = FREESURFER_HOME + \"mni\"\n",
    "    os.environ[\"FSFAST_HOME\"] = FREESURFER_HOME + \"fsfast\"\n",
    "    os.environ[\"OLDPWD\"]= FREESURFER_HOME\n",
    "    os.environ[\"FSF_OUTPUT_FORMAT\"] = \"nii.gz\"\n",
    "    os.environ[\"LOCAL_DIR\"] = FREESURFER_HOME + \"local\"\n",
    "    os.environ[\"FMRI_ANALYSIS_DIR\"] = FREESURFER_HOME + \"fsfast\"\n",
    "    os.environ[\"PWD\"] = \"/root\"\n",
    "    os.environ[\"FUNCTIONALS_DIR\"] = FREESURFER_HOME + \"sessions\"\n",
    "    os.environ[\"HOME\"]=\"/root\"\n",
    "    os.environ[\"MNI_PERL5LIB\"] = FREESURFER_HOME + \"mni/share/perl5\"\n",
    "    os.environ[\"MINC_BIN_DIR\"] = FREESURFER_HOME + \"mni/bin\"\n",
    "    os.environ[\"PERL5LIB\"]= FREESURFER_HOME + \"mni/share/perl5\"\n",
    "    os.environ[\"FS_OVERRIDE\"] = \"0\"\n",
    "    os.environ[\"PATH\"]= \"/opt/freesurfer-6.0.0/bin:/opt/freesurfer-6.0.0/fsfast/bin:/opt/freesurfer-6.0.0/tktools:/opt/freesurfer-6.0.0/mni/bin:/opt/freesurfer-6.0.0/bin:/opt/freesurfer-6.0.0/fsfast/bin:/opt/freesurfer-6.0.0/tktools:/opt/freesurfer-6.0.0/mni/bin:/opt/freesurfer-6.0.0/bin:/opt/freesurfer-6.0.0/fsfast/bin:/opt/freesurfer-6.0.0/tktools:/opt/freesurfer-6.0.0/mni/bin:/opt/freesurfer-6.0.0/bin:/opt/freesurfer-6.0.0/fsfast/bin:/opt/freesurfer-6.0.0/tktools:/opt/freesurfer-6.0.0/mni/bin:/opt/freesurfer-6.0.0/bin:/opt/freesurfer-6.0.0/fsfast/bin:/opt/freesurfer-6.0.0/tktools:/opt/freesurfer-6.0.0/mni/bin:/opt/freesurfer-6.0.0/bin:/opt/freesurfer-6.0.0/fsfast/bin:/opt/freesurfer-6.0.0/tktools:/opt/freesurfer-6.0.0/mni/bin:/opt/freesurfer-6.0.0/bin:/opt/freesurfer-6.0.0/fsfast/bin:/opt/freesurfer-6.0.0/tktools:/opt/freesurfer-6.0.0/mni/bin:/opt/freesurfer-6.0.0/bin:/opt/freesurfer-6.0.0/fsfast/bin:/opt/freesurfer-6.0.0/tktools:/opt/freesurfer-6.0.0/mni/bin:/opt/freesurfer-6.0.0/bin:/opt/freesurfer-6.0.0/fsfast/bin:/opt/freesurfer-6.0.0/tktools:/opt/freesurfer-6.0.0/mni/bin:/opt/freesurfer-6.0.0/bin:/opt/freesurfer-6.0.0/fsfast/bin:/opt/freesurfer-6.0.0/tktools:/opt/freesurfer-6.0.0/mni/bin:/opt/freesurfer-6.0.0/bin:/opt/freesurfer-6.0.0/fsfast/bin:/opt/freesurfer-6.0.0/tktools:/opt/freesurfer-6.0.0/mni/bin:/opt/freesurfer-6.0.0/bin:/opt/freesurfer-6.0.0/fsfast/bin:/opt/freesurfer-6.0.0/tktools:/opt/freesurfer-6.0.0/mni/bin:/opt/freesurfer-6.0.0/bin:/opt/freesurfer-6.0.0/fsfast/bin:/opt/freesurfer-6.0.0/tktools:/opt/freesurfer-6.0.0/mni/bin:/opt/freesurfer-6.0.0/bin:/opt/freesurfer-6.0.0/fsfast/bin:/opt/freesurfer-6.0.0/tktools:/opt/freesurfer-6.0.0/mni/bin:/opt/freesurfer-6.0.0/bin:/usr/local/sbin:/usr/local/bin:/usr/sbin:/usr/bin:/sbin:/bin\"\n",
    "    os.environ[\"MINC_LIB_DIR\"]= FREESURFER_HOME + \"mni/lib\"\n",
    "    os.environ[\"MNI_DATAPATH\"]= FREESURFER_HOME + \"mni/data\"\n",
    "               \n",
    "\n",
    "    from nipype.interfaces.freesurfer import ReconAll\n",
    "    reconall = ReconAll()\n",
    "    reconall.inputs.subject_id = subject\n",
    "    reconall.inputs.directive = 'all'\n",
    "    reconall.inputs.subjects_dir = SUBJECTS_DIR\n",
    "    reconall.inputs.T1_files = \"/home/cloudknot-user/T1.nii.gz\" \n",
    "    reconall.run()\n",
    "            \n",
    "    def upload_directory(path, bucketname, folder):\n",
    "        for root, dirs, files in os.walk(path):\n",
    "            for file in files:\n",
    "                print(op.join(folder, os.path.split(root)[-1], file))\n",
    "                client.upload_file(op.join(root, file), \n",
    "                                   bucketname, \n",
    "                                   os.path.join(folder, os.path.split(root)[-1], file))\n",
    "\n",
    "    upload_directory(SUBJECTS_DIR + \"%s/\"%subject, \n",
    "                     'arokem.mri2mri', \n",
    "                     'IXI-Freesurfer-segmentations/%s/'%subject)\n",
    "    "
   ]
  },
  {
   "cell_type": "code",
   "execution_count": 3,
   "metadata": {},
   "outputs": [],
   "source": [
    "image = ck.DockerImage(func=fs_segment,\n",
    "                       base_image=\"arokem/fs:2\")"
   ]
  },
  {
   "cell_type": "code",
   "execution_count": 4,
   "metadata": {},
   "outputs": [],
   "source": [
    "from glob import glob"
   ]
  },
  {
   "cell_type": "code",
   "execution_count": 5,
   "metadata": {},
   "outputs": [],
   "source": [
    "ids = list(set([foo.split('/')[-1].split('-')[0] for \n",
    "                foo in glob('/Users/arokem/data/mri2mri/t1_pdd_cosine_L1_unet128_T3_3d/IXI*')]))"
   ]
  },
  {
   "cell_type": "code",
   "execution_count": 7,
   "metadata": {},
   "outputs": [],
   "source": [
    "ids = [\"IXI398\",\n",
    "    \"IXI286\",\n",
    "    \"IXI056\",\n",
    "    \"IXI490\",\n",
    "    \"IXI094\",\n",
    "    \"IXI498\",\n",
    "    \"IXI368\",\n",
    "    \"IXI128\",\n",
    "    \"IXI397\",\n",
    "    \"IXI216\",\n",
    "    \"IXI285\",\n",
    "    \"IXI265\",\n",
    "    \"IXI488\",\n",
    "    \"IXI136\",\n",
    "    \"IXI567\",\n",
    "    \"IXI381\",\n",
    "    \"IXI161\",\n",
    "    \"IXI160\",\n",
    "    \"IXI308\",\n",
    "    \"IXI537\",\n",
    "    \"IXI623\",\n",
    "    \"IXI127\",\n",
    "    \"IXI558\",\n",
    "    \"IXI297\",\n",
    "    \"IXI455\",\n",
    "    \"IXI598\",\n",
    "    \"IXI236\",\n",
    "    \"IXI484\",\n",
    "    \"IXI335\",\n",
    "    \"IXI389\",\n",
    "    \"IXI211\",\n",
    "    \"IXI377\",\n",
    "    \"IXI169\",\n",
    "    \"IXI480\",\n",
    "    \"IXI048\",\n",
    "    \"IXI440\"]"
   ]
  },
  {
   "cell_type": "code",
   "execution_count": 8,
   "metadata": {},
   "outputs": [
    {
     "data": {
      "text/plain": [
       "36"
      ]
     },
     "execution_count": 8,
     "metadata": {},
     "output_type": "execute_result"
    }
   ],
   "source": [
    "len(ids)"
   ]
  },
  {
   "cell_type": "code",
   "execution_count": 9,
   "metadata": {},
   "outputs": [],
   "source": [
    "knots = []\n",
    "results = []\n",
    "for i in range(len(ids) // 10 + 1):\n",
    "    knots.append(ck.Knot(name='fs_seg_2_32_%s'%i,\n",
    "               docker_image=image,\n",
    "               #memory=10000,\n",
    "               bid_percentage=100,\n",
    "               resource_type=\"SPOT\",\n",
    "               #image_id=\"ami-0b251dc6f872712a4\",\n",
    "               pars_policies=('AmazonS3FullAccess',)))\n",
    "    results.append(knots[-1].map(ids[i*10:(i+1)*10]))"
   ]
  },
  {
   "cell_type": "code",
   "execution_count": 15,
   "metadata": {},
   "outputs": [
    {
     "data": {
      "text/plain": [
       "<cloudknot.cloudknot.Knot at 0x10c585d50>"
      ]
     },
     "execution_count": 15,
     "metadata": {},
     "output_type": "execute_result"
    }
   ],
   "source": []
  },
  {
   "cell_type": "code",
   "execution_count": 14,
   "metadata": {},
   "outputs": [
    {
     "ename": "IndexError",
     "evalue": "list index out of range",
     "output_type": "error",
     "traceback": [
      "\u001b[0;31m---------------------------------------------------------------------------\u001b[0m",
      "\u001b[0;31mIndexError\u001b[0m                                Traceback (most recent call last)",
      "\u001b[0;32m<ipython-input-14-556ab852e8d1>\u001b[0m in \u001b[0;36m<module>\u001b[0;34m()\u001b[0m\n\u001b[0;32m----> 1\u001b[0;31m \u001b[0;34m[\u001b[0m\u001b[0mk\u001b[0m\u001b[0;34m.\u001b[0m\u001b[0mjobs\u001b[0m\u001b[0;34m[\u001b[0m\u001b[0;36m0\u001b[0m\u001b[0;34m]\u001b[0m\u001b[0;34m.\u001b[0m\u001b[0mstatus\u001b[0m \u001b[0;32mfor\u001b[0m \u001b[0mk\u001b[0m \u001b[0;32min\u001b[0m \u001b[0mknots\u001b[0m\u001b[0;34m]\u001b[0m\u001b[0;34m\u001b[0m\u001b[0m\n\u001b[0m",
      "\u001b[0;32m/Users/arokem/source/cloudknot/cloudknot/aws/batch.pyc\u001b[0m in \u001b[0;36mstatus\u001b[0;34m(self)\u001b[0m\n\u001b[1;32m    360\u001b[0m         \u001b[0;31m# Query the job_id\u001b[0m\u001b[0;34m\u001b[0m\u001b[0;34m\u001b[0m\u001b[0m\n\u001b[1;32m    361\u001b[0m         \u001b[0mresponse\u001b[0m \u001b[0;34m=\u001b[0m \u001b[0mclients\u001b[0m\u001b[0;34m[\u001b[0m\u001b[0;34m'batch'\u001b[0m\u001b[0;34m]\u001b[0m\u001b[0;34m.\u001b[0m\u001b[0mdescribe_jobs\u001b[0m\u001b[0;34m(\u001b[0m\u001b[0mjobs\u001b[0m\u001b[0;34m=\u001b[0m\u001b[0;34m[\u001b[0m\u001b[0mself\u001b[0m\u001b[0;34m.\u001b[0m\u001b[0mjob_id\u001b[0m\u001b[0;34m]\u001b[0m\u001b[0;34m)\u001b[0m\u001b[0;34m\u001b[0m\u001b[0m\n\u001b[0;32m--> 362\u001b[0;31m         \u001b[0mjob\u001b[0m \u001b[0;34m=\u001b[0m \u001b[0mresponse\u001b[0m\u001b[0;34m.\u001b[0m\u001b[0mget\u001b[0m\u001b[0;34m(\u001b[0m\u001b[0;34m'jobs'\u001b[0m\u001b[0;34m)\u001b[0m\u001b[0;34m[\u001b[0m\u001b[0;36m0\u001b[0m\u001b[0;34m]\u001b[0m\u001b[0;34m\u001b[0m\u001b[0m\n\u001b[0m\u001b[1;32m    363\u001b[0m \u001b[0;34m\u001b[0m\u001b[0m\n\u001b[1;32m    364\u001b[0m         \u001b[0;31m# Return only a subset of the job dictionary\u001b[0m\u001b[0;34m\u001b[0m\u001b[0;34m\u001b[0m\u001b[0m\n",
      "\u001b[0;31mIndexError\u001b[0m: list index out of range"
     ]
    }
   ],
   "source": [
    "[k.jobs[0].status for k in knots]"
   ]
  },
  {
   "cell_type": "code",
   "execution_count": 9,
   "metadata": {},
   "outputs": [],
   "source": [
    "#knot.clobber()"
   ]
  },
  {
   "cell_type": "code",
   "execution_count": 10,
   "metadata": {},
   "outputs": [],
   "source": [
    "# for sub in ids:\n",
    "#     real_a_files = []\n",
    "#     real_b_files = []\n",
    "#     fake_b_files = []\n",
    "\n",
    "#     for k in glob('/Users/arokem/data/mri2mri/t1_pdd_cosine_L1_unet128_T3_3d/*%s*'%sub):\n",
    "#         if k.endswith('real_A.npy'):\n",
    "#             real_a_files.append(k)\n",
    "#         elif k.endswith('real_B.npy'):\n",
    "#             real_b_files.append(k)\n",
    "#         elif k.endswith('fake_B.npy'):\n",
    "#             fake_b_files.append(k)\n",
    "\n",
    "#     real_a_files.sort()\n",
    "#     real_b_files.sort()\n",
    "#     fake_b_files.sort()\n",
    "#     real_a = np.zeros((len(real_a_files), 128, 128, 3))\n",
    "#     real_b = np.zeros((len(real_a_files), 128, 128, 3))\n",
    "#     fake_b = np.zeros((len(real_a_files), 128, 128, 3))\n",
    "#     for ii in range(len(real_a_files)):\n",
    "#         real_a[ii]= np.load(real_a_files[ii]) \n",
    "#         real_b[ii]= np.load(real_b_files[ii]) \n",
    "#         fake_b[ii]= np.load(fake_b_files[ii])\n",
    "#     np.save('/Users/arokem/data/mri2mri/t1_pdd_cosine_L1_unet128_T3_3d/volumes/%s_real_A.npy'%sub, real_a, allow_pickle=False)\n",
    "#     np.save('/Users/arokem/data/mri2mri/t1_pdd_cosine_L1_unet128_T3_3d/volumes/%s_real_B.npy'%sub, real_b, allow_pickle=False)\n",
    "#     np.save('/Users/arokem/data/mri2mri/t1_pdd_cosine_L1_unet128_T3_3d/volumes/%s_fake_B.npy'%sub, fake_b, allow_pickle=False)\n"
   ]
  },
  {
   "cell_type": "code",
   "execution_count": null,
   "metadata": {},
   "outputs": [],
   "source": []
  }
 ],
 "metadata": {
  "kernelspec": {
   "display_name": "Python 2",
   "language": "python",
   "name": "python2"
  },
  "language_info": {
   "codemirror_mode": {
    "name": "ipython",
    "version": 2
   },
   "file_extension": ".py",
   "mimetype": "text/x-python",
   "name": "python",
   "nbconvert_exporter": "python",
   "pygments_lexer": "ipython2",
   "version": "2.7.10"
  }
 },
 "nbformat": 4,
 "nbformat_minor": 2
}
